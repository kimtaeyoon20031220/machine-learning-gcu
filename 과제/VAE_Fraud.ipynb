{
 "cells": [
  {
   "cell_type": "code",
   "execution_count": 14,
   "metadata": {},
   "outputs": [],
   "source": [
    "import os\n",
    "import numpy as np\n",
    "import pandas as pd\n",
    "import tensorflow as tf\n",
    "import matplotlib.pyplot as plt\n",
    "from tensorflow.keras import Model, layers\n",
    "from matplotlib import pyplot as plt\n",
    "from keras import Input, Model"
   ]
  },
  {
   "cell_type": "code",
   "execution_count": 6,
   "metadata": {},
   "outputs": [],
   "source": [
    "df = pd.read_csv(\"../../dataset/creditcard.csv\")"
   ]
  },
  {
   "cell_type": "code",
   "execution_count": 7,
   "metadata": {},
   "outputs": [
    {
     "data": {
      "text/plain": [
       "(284807, 31)"
      ]
     },
     "execution_count": 7,
     "metadata": {},
     "output_type": "execute_result"
    }
   ],
   "source": [
    "df.shape"
   ]
  },
  {
   "cell_type": "code",
   "execution_count": 25,
   "metadata": {},
   "outputs": [
    {
     "ename": "ValueError",
     "evalue": "Exception encountered when calling layer \"tf.__operators__.add_1\" (type TFOpLambda).\n\nDimensions must be equal, but are 7 and 28 for '{{node tf.__operators__.add_1/AddV2}} = AddV2[T=DT_FLOAT](Placeholder, Placeholder_1)' with input shapes: [?,28,28,7], [?,28].\n\nCall arguments received by layer \"tf.__operators__.add_1\" (type TFOpLambda):\n  • x=tf.Tensor(shape=(None, 28, 28, 7), dtype=float32)\n  • y=tf.Tensor(shape=(None, 28), dtype=float32)\n  • name=None",
     "output_type": "error",
     "traceback": [
      "\u001b[0;31m---------------------------------------------------------------------------\u001b[0m",
      "\u001b[0;31mValueError\u001b[0m                                Traceback (most recent call last)",
      "Cell \u001b[0;32mIn[25], line 8\u001b[0m\n\u001b[1;32m      6\u001b[0m z_mean \u001b[39m=\u001b[39m layers\u001b[39m.\u001b[39mDense(encoding_dim \u001b[39m/\u001b[39m \u001b[39m2\u001b[39m, name\u001b[39m=\u001b[39m\u001b[39m\"\u001b[39m\u001b[39mz_mean\u001b[39m\u001b[39m\"\u001b[39m)(x)\n\u001b[1;32m      7\u001b[0m z_log_var \u001b[39m=\u001b[39m layers\u001b[39m.\u001b[39mDense(encoding_dim \u001b[39m/\u001b[39m \u001b[39m2\u001b[39m, name\u001b[39m=\u001b[39m\u001b[39m\"\u001b[39m\u001b[39mz_log_var\u001b[39m\u001b[39m\"\u001b[39m)(x)\n\u001b[0;32m----> 8\u001b[0m encoder \u001b[39m=\u001b[39m Model(encoder_inputs, [z_mean, z_log_var, z_mean \u001b[39m+\u001b[39;49m tf\u001b[39m.\u001b[39;49mexp(\u001b[39m0.5\u001b[39;49m, z_log_var) \u001b[39m*\u001b[39;49m (tf\u001b[39m.\u001b[39;49mrandom\u001b[39m.\u001b[39;49mnormal(shape\u001b[39m=\u001b[39;49m(tf\u001b[39m.\u001b[39;49mshape(z_mean)[\u001b[39m0\u001b[39;49m], tf\u001b[39m.\u001b[39;49mshape(z_mean)[\u001b[39m1\u001b[39;49m])))], name\u001b[39m=\u001b[39m\u001b[39m\"\u001b[39m\u001b[39mencoder\u001b[39m\u001b[39m\"\u001b[39m)\n\u001b[1;32m      9\u001b[0m encoder\u001b[39m.\u001b[39msummary()\n",
      "File \u001b[0;32m~/opt/anaconda3/lib/python3.9/site-packages/tensorflow/python/util/traceback_utils.py:153\u001b[0m, in \u001b[0;36mfilter_traceback.<locals>.error_handler\u001b[0;34m(*args, **kwargs)\u001b[0m\n\u001b[1;32m    151\u001b[0m \u001b[39mexcept\u001b[39;00m \u001b[39mException\u001b[39;00m \u001b[39mas\u001b[39;00m e:\n\u001b[1;32m    152\u001b[0m   filtered_tb \u001b[39m=\u001b[39m _process_traceback_frames(e\u001b[39m.\u001b[39m__traceback__)\n\u001b[0;32m--> 153\u001b[0m   \u001b[39mraise\u001b[39;00m e\u001b[39m.\u001b[39mwith_traceback(filtered_tb) \u001b[39mfrom\u001b[39;00m \u001b[39mNone\u001b[39;00m\n\u001b[1;32m    154\u001b[0m \u001b[39mfinally\u001b[39;00m:\n\u001b[1;32m    155\u001b[0m   \u001b[39mdel\u001b[39;00m filtered_tb\n",
      "File \u001b[0;32m~/opt/anaconda3/lib/python3.9/site-packages/keras/layers/core/tf_op_layer.py:107\u001b[0m, in \u001b[0;36mKerasOpDispatcher.handle\u001b[0;34m(self, op, args, kwargs)\u001b[0m\n\u001b[1;32m    103\u001b[0m \u001b[39m\u001b[39m\u001b[39m\"\"\"Handle the specified operation with the specified arguments.\"\"\"\u001b[39;00m\n\u001b[1;32m    104\u001b[0m \u001b[39mif\u001b[39;00m \u001b[39many\u001b[39m(\n\u001b[1;32m    105\u001b[0m     \u001b[39misinstance\u001b[39m(x, keras_tensor\u001b[39m.\u001b[39mKerasTensor)\n\u001b[1;32m    106\u001b[0m     \u001b[39mfor\u001b[39;00m x \u001b[39min\u001b[39;00m tf\u001b[39m.\u001b[39mnest\u001b[39m.\u001b[39mflatten([args, kwargs])):\n\u001b[0;32m--> 107\u001b[0m   \u001b[39mreturn\u001b[39;00m TFOpLambda(op)(\u001b[39m*\u001b[39;49margs, \u001b[39m*\u001b[39;49m\u001b[39m*\u001b[39;49mkwargs)\n\u001b[1;32m    108\u001b[0m \u001b[39melse\u001b[39;00m:\n\u001b[1;32m    109\u001b[0m   \u001b[39mreturn\u001b[39;00m \u001b[39mself\u001b[39m\u001b[39m.\u001b[39mNOT_SUPPORTED\n",
      "File \u001b[0;32m~/opt/anaconda3/lib/python3.9/site-packages/keras/utils/traceback_utils.py:67\u001b[0m, in \u001b[0;36mfilter_traceback.<locals>.error_handler\u001b[0;34m(*args, **kwargs)\u001b[0m\n\u001b[1;32m     65\u001b[0m \u001b[39mexcept\u001b[39;00m \u001b[39mException\u001b[39;00m \u001b[39mas\u001b[39;00m e:  \u001b[39m# pylint: disable=broad-except\u001b[39;00m\n\u001b[1;32m     66\u001b[0m   filtered_tb \u001b[39m=\u001b[39m _process_traceback_frames(e\u001b[39m.\u001b[39m__traceback__)\n\u001b[0;32m---> 67\u001b[0m   \u001b[39mraise\u001b[39;00m e\u001b[39m.\u001b[39mwith_traceback(filtered_tb) \u001b[39mfrom\u001b[39;00m \u001b[39mNone\u001b[39;00m\n\u001b[1;32m     68\u001b[0m \u001b[39mfinally\u001b[39;00m:\n\u001b[1;32m     69\u001b[0m   \u001b[39mdel\u001b[39;00m filtered_tb\n",
      "\u001b[0;31mValueError\u001b[0m: Exception encountered when calling layer \"tf.__operators__.add_1\" (type TFOpLambda).\n\nDimensions must be equal, but are 7 and 28 for '{{node tf.__operators__.add_1/AddV2}} = AddV2[T=DT_FLOAT](Placeholder, Placeholder_1)' with input shapes: [?,28,28,7], [?,28].\n\nCall arguments received by layer \"tf.__operators__.add_1\" (type TFOpLambda):\n  • x=tf.Tensor(shape=(None, 28, 28, 7), dtype=float32)\n  • y=tf.Tensor(shape=(None, 28), dtype=float32)\n  • name=None"
     ]
    }
   ],
   "source": [
    "encoding_dim = 14\n",
    "\n",
    "encoder_inputs = Input(shape=(28, 28, 1))\n",
    "x = layers.Dense(encoding_dim, activation=\"relu\")(encoder_inputs)\n",
    "x = layers.Dense(encoding_dim / 2, activation=\"relu\")(x)\n",
    "z_mean = layers.Dense(encoding_dim / 2, name=\"z_mean\")(x)\n",
    "z_log_var = layers.Dense(encoding_dim / 2, name=\"z_log_var\")(x)\n",
    "encoder = Model(encoder_inputs, [z_mean, z_log_var, z_mean + tf.exp(0.5, z_log_var) * (tf.random.normal(shape=(tf.shape(z_mean)[0], tf.shape(z_mean)[1])))], name=\"encoder\")\n",
    "encoder.summary()"
   ]
  }
 ],
 "metadata": {
  "kernelspec": {
   "display_name": "base",
   "language": "python",
   "name": "python3"
  },
  "language_info": {
   "codemirror_mode": {
    "name": "ipython",
    "version": 3
   },
   "file_extension": ".py",
   "mimetype": "text/x-python",
   "name": "python",
   "nbconvert_exporter": "python",
   "pygments_lexer": "ipython3",
   "version": "3.9.7"
  },
  "orig_nbformat": 4
 },
 "nbformat": 4,
 "nbformat_minor": 2
}
