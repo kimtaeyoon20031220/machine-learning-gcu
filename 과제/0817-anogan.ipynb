{
 "cells": [
  {
   "cell_type": "code",
   "execution_count": 1,
   "metadata": {},
   "outputs": [],
   "source": [
    "import pandas as pd\n",
    "import numpy as np\n",
    "from sklearn.preprocessing import StandardScaler\n",
    "from keras.layers import Input, Dense, Dropout\n",
    "from keras.models import Model\n",
    "from keras.optimizers import Adam, RMSprop\n",
    "from keras.callbacks import EarlyStopping\n",
    "import matplotlib.pyplot as plt\n",
    "from sklearn.ensemble import IsolationForest\n",
    "from sklearn.model_selection import train_test_split\n",
    "from sklearn.preprocessing import MinMaxScaler\n",
    "from keras.initializers import glorot_normal"
   ]
  },
  {
   "cell_type": "code",
   "execution_count": 2,
   "metadata": {},
   "outputs": [
    {
     "data": {
      "text/html": [
       "<div>\n",
       "<style scoped>\n",
       "    .dataframe tbody tr th:only-of-type {\n",
       "        vertical-align: middle;\n",
       "    }\n",
       "\n",
       "    .dataframe tbody tr th {\n",
       "        vertical-align: top;\n",
       "    }\n",
       "\n",
       "    .dataframe thead th {\n",
       "        text-align: right;\n",
       "    }\n",
       "</style>\n",
       "<table border=\"1\" class=\"dataframe\">\n",
       "  <thead>\n",
       "    <tr style=\"text-align: right;\">\n",
       "      <th></th>\n",
       "      <th>avg_ipt</th>\n",
       "      <th>bytes_in</th>\n",
       "      <th>bytes_out</th>\n",
       "      <th>dest_ip</th>\n",
       "      <th>dest_port</th>\n",
       "      <th>entropy</th>\n",
       "      <th>num_pkts_out</th>\n",
       "      <th>num_pkts_in</th>\n",
       "      <th>proto</th>\n",
       "      <th>src_ip</th>\n",
       "      <th>src_port</th>\n",
       "      <th>time_end</th>\n",
       "      <th>time_start</th>\n",
       "      <th>total_entropy</th>\n",
       "      <th>label</th>\n",
       "      <th>duration</th>\n",
       "    </tr>\n",
       "  </thead>\n",
       "  <tbody>\n",
       "    <tr>\n",
       "      <th>0</th>\n",
       "      <td>0.0</td>\n",
       "      <td>0</td>\n",
       "      <td>0</td>\n",
       "      <td>786</td>\n",
       "      <td>31306.0</td>\n",
       "      <td>0.000000</td>\n",
       "      <td>1</td>\n",
       "      <td>0</td>\n",
       "      <td>6</td>\n",
       "      <td>786</td>\n",
       "      <td>47613.0</td>\n",
       "      <td>1655074782132491</td>\n",
       "      <td>1655074782132491</td>\n",
       "      <td>0.000000</td>\n",
       "      <td>outlier</td>\n",
       "      <td>0.000000</td>\n",
       "    </tr>\n",
       "    <tr>\n",
       "      <th>1</th>\n",
       "      <td>0.0</td>\n",
       "      <td>0</td>\n",
       "      <td>0</td>\n",
       "      <td>786</td>\n",
       "      <td>24298.0</td>\n",
       "      <td>0.000000</td>\n",
       "      <td>1</td>\n",
       "      <td>0</td>\n",
       "      <td>6</td>\n",
       "      <td>786</td>\n",
       "      <td>47613.0</td>\n",
       "      <td>1655074782573321</td>\n",
       "      <td>1655074782573321</td>\n",
       "      <td>0.000000</td>\n",
       "      <td>outlier</td>\n",
       "      <td>0.000000</td>\n",
       "    </tr>\n",
       "    <tr>\n",
       "      <th>2</th>\n",
       "      <td>0.0</td>\n",
       "      <td>0</td>\n",
       "      <td>0</td>\n",
       "      <td>786</td>\n",
       "      <td>31789.0</td>\n",
       "      <td>0.000000</td>\n",
       "      <td>1</td>\n",
       "      <td>0</td>\n",
       "      <td>6</td>\n",
       "      <td>786</td>\n",
       "      <td>47613.0</td>\n",
       "      <td>1655074783148517</td>\n",
       "      <td>1655074783148517</td>\n",
       "      <td>0.000000</td>\n",
       "      <td>outlier</td>\n",
       "      <td>0.000000</td>\n",
       "    </tr>\n",
       "    <tr>\n",
       "      <th>3</th>\n",
       "      <td>0.0</td>\n",
       "      <td>0</td>\n",
       "      <td>0</td>\n",
       "      <td>786</td>\n",
       "      <td>29409.0</td>\n",
       "      <td>0.000000</td>\n",
       "      <td>1</td>\n",
       "      <td>0</td>\n",
       "      <td>6</td>\n",
       "      <td>786</td>\n",
       "      <td>47613.0</td>\n",
       "      <td>1655074783149855</td>\n",
       "      <td>1655074783149855</td>\n",
       "      <td>0.000000</td>\n",
       "      <td>outlier</td>\n",
       "      <td>0.000000</td>\n",
       "    </tr>\n",
       "    <tr>\n",
       "      <th>4</th>\n",
       "      <td>0.0</td>\n",
       "      <td>0</td>\n",
       "      <td>0</td>\n",
       "      <td>786</td>\n",
       "      <td>60965.0</td>\n",
       "      <td>0.000000</td>\n",
       "      <td>1</td>\n",
       "      <td>0</td>\n",
       "      <td>6</td>\n",
       "      <td>786</td>\n",
       "      <td>47613.0</td>\n",
       "      <td>1655074783167254</td>\n",
       "      <td>1655074783167254</td>\n",
       "      <td>0.000000</td>\n",
       "      <td>outlier</td>\n",
       "      <td>0.000000</td>\n",
       "    </tr>\n",
       "    <tr>\n",
       "      <th>...</th>\n",
       "      <td>...</td>\n",
       "      <td>...</td>\n",
       "      <td>...</td>\n",
       "      <td>...</td>\n",
       "      <td>...</td>\n",
       "      <td>...</td>\n",
       "      <td>...</td>\n",
       "      <td>...</td>\n",
       "      <td>...</td>\n",
       "      <td>...</td>\n",
       "      <td>...</td>\n",
       "      <td>...</td>\n",
       "      <td>...</td>\n",
       "      <td>...</td>\n",
       "      <td>...</td>\n",
       "      <td>...</td>\n",
       "    </tr>\n",
       "    <tr>\n",
       "      <th>26162</th>\n",
       "      <td>0.0</td>\n",
       "      <td>0</td>\n",
       "      <td>0</td>\n",
       "      <td>786</td>\n",
       "      <td>554.0</td>\n",
       "      <td>0.000000</td>\n",
       "      <td>2</td>\n",
       "      <td>1</td>\n",
       "      <td>6</td>\n",
       "      <td>786</td>\n",
       "      <td>8492.0</td>\n",
       "      <td>1655078343916062</td>\n",
       "      <td>1655078343822522</td>\n",
       "      <td>0.000000</td>\n",
       "      <td>outlier</td>\n",
       "      <td>0.093540</td>\n",
       "    </tr>\n",
       "    <tr>\n",
       "      <th>26163</th>\n",
       "      <td>0.0</td>\n",
       "      <td>8</td>\n",
       "      <td>8</td>\n",
       "      <td>786</td>\n",
       "      <td>NaN</td>\n",
       "      <td>3.000000</td>\n",
       "      <td>1</td>\n",
       "      <td>1</td>\n",
       "      <td>1</td>\n",
       "      <td>786</td>\n",
       "      <td>NaN</td>\n",
       "      <td>1655078338259086</td>\n",
       "      <td>1655078338258995</td>\n",
       "      <td>47.999996</td>\n",
       "      <td>outlier</td>\n",
       "      <td>0.000091</td>\n",
       "    </tr>\n",
       "    <tr>\n",
       "      <th>26164</th>\n",
       "      <td>0.0</td>\n",
       "      <td>8</td>\n",
       "      <td>8</td>\n",
       "      <td>786</td>\n",
       "      <td>NaN</td>\n",
       "      <td>3.000000</td>\n",
       "      <td>1</td>\n",
       "      <td>1</td>\n",
       "      <td>1</td>\n",
       "      <td>786</td>\n",
       "      <td>NaN</td>\n",
       "      <td>165507834136686</td>\n",
       "      <td>165507834136681</td>\n",
       "      <td>47.999996</td>\n",
       "      <td>outlier</td>\n",
       "      <td>0.000050</td>\n",
       "    </tr>\n",
       "    <tr>\n",
       "      <th>26165</th>\n",
       "      <td>93.0</td>\n",
       "      <td>0</td>\n",
       "      <td>23</td>\n",
       "      <td>786</td>\n",
       "      <td>554.0</td>\n",
       "      <td>3.914866</td>\n",
       "      <td>4</td>\n",
       "      <td>3</td>\n",
       "      <td>6</td>\n",
       "      <td>786</td>\n",
       "      <td>49872.0</td>\n",
       "      <td>1655078344174555</td>\n",
       "      <td>1655078343989254</td>\n",
       "      <td>90.041930</td>\n",
       "      <td>outlier</td>\n",
       "      <td>0.185301</td>\n",
       "    </tr>\n",
       "    <tr>\n",
       "      <th>26166</th>\n",
       "      <td>0.0</td>\n",
       "      <td>0</td>\n",
       "      <td>0</td>\n",
       "      <td>786</td>\n",
       "      <td>47613.0</td>\n",
       "      <td>0.000000</td>\n",
       "      <td>1</td>\n",
       "      <td>0</td>\n",
       "      <td>6</td>\n",
       "      <td>786</td>\n",
       "      <td>29621.0</td>\n",
       "      <td>1655078346927999</td>\n",
       "      <td>1655078346927999</td>\n",
       "      <td>0.000000</td>\n",
       "      <td>outlier</td>\n",
       "      <td>0.000000</td>\n",
       "    </tr>\n",
       "  </tbody>\n",
       "</table>\n",
       "<p>26167 rows × 16 columns</p>\n",
       "</div>"
      ],
      "text/plain": [
       "       avg_ipt  bytes_in  bytes_out  dest_ip  dest_port   entropy  \\\n",
       "0          0.0         0          0      786    31306.0  0.000000   \n",
       "1          0.0         0          0      786    24298.0  0.000000   \n",
       "2          0.0         0          0      786    31789.0  0.000000   \n",
       "3          0.0         0          0      786    29409.0  0.000000   \n",
       "4          0.0         0          0      786    60965.0  0.000000   \n",
       "...        ...       ...        ...      ...        ...       ...   \n",
       "26162      0.0         0          0      786      554.0  0.000000   \n",
       "26163      0.0         8          8      786        NaN  3.000000   \n",
       "26164      0.0         8          8      786        NaN  3.000000   \n",
       "26165     93.0         0         23      786      554.0  3.914866   \n",
       "26166      0.0         0          0      786    47613.0  0.000000   \n",
       "\n",
       "       num_pkts_out  num_pkts_in  proto  src_ip  src_port          time_end  \\\n",
       "0                 1            0      6     786   47613.0  1655074782132491   \n",
       "1                 1            0      6     786   47613.0  1655074782573321   \n",
       "2                 1            0      6     786   47613.0  1655074783148517   \n",
       "3                 1            0      6     786   47613.0  1655074783149855   \n",
       "4                 1            0      6     786   47613.0  1655074783167254   \n",
       "...             ...          ...    ...     ...       ...               ...   \n",
       "26162             2            1      6     786    8492.0  1655078343916062   \n",
       "26163             1            1      1     786       NaN  1655078338259086   \n",
       "26164             1            1      1     786       NaN   165507834136686   \n",
       "26165             4            3      6     786   49872.0  1655078344174555   \n",
       "26166             1            0      6     786   29621.0  1655078346927999   \n",
       "\n",
       "             time_start  total_entropy    label  duration  \n",
       "0      1655074782132491       0.000000  outlier  0.000000  \n",
       "1      1655074782573321       0.000000  outlier  0.000000  \n",
       "2      1655074783148517       0.000000  outlier  0.000000  \n",
       "3      1655074783149855       0.000000  outlier  0.000000  \n",
       "4      1655074783167254       0.000000  outlier  0.000000  \n",
       "...                 ...            ...      ...       ...  \n",
       "26162  1655078343822522       0.000000  outlier  0.093540  \n",
       "26163  1655078338258995      47.999996  outlier  0.000091  \n",
       "26164   165507834136681      47.999996  outlier  0.000050  \n",
       "26165  1655078343989254      90.041930  outlier  0.185301  \n",
       "26166  1655078346927999       0.000000  outlier  0.000000  \n",
       "\n",
       "[26167 rows x 16 columns]"
      ]
     },
     "execution_count": 2,
     "metadata": {},
     "output_type": "execute_result"
    }
   ],
   "source": [
    "df_all = pd.read_csv(\"../../dataset/2022.06.12.csv\") # label 섞여 있는 데이터셋\n",
    "df_true = pd.read_csv(\"../../dataset/2021.01.01.csv\") # label=benign 데이터셋\n",
    "\n",
    "pd.DataFrame(df_all)"
   ]
  },
  {
   "cell_type": "code",
   "execution_count": 3,
   "metadata": {},
   "outputs": [
    {
     "data": {
      "text/html": [
       "<div>\n",
       "<style scoped>\n",
       "    .dataframe tbody tr th:only-of-type {\n",
       "        vertical-align: middle;\n",
       "    }\n",
       "\n",
       "    .dataframe tbody tr th {\n",
       "        vertical-align: top;\n",
       "    }\n",
       "\n",
       "    .dataframe thead th {\n",
       "        text-align: right;\n",
       "    }\n",
       "</style>\n",
       "<table border=\"1\" class=\"dataframe\">\n",
       "  <thead>\n",
       "    <tr style=\"text-align: right;\">\n",
       "      <th></th>\n",
       "      <th>avg_ipt</th>\n",
       "      <th>bytes_in</th>\n",
       "      <th>bytes_out</th>\n",
       "      <th>dest_ip</th>\n",
       "      <th>dest_port</th>\n",
       "      <th>entropy</th>\n",
       "      <th>num_pkts_out</th>\n",
       "      <th>num_pkts_in</th>\n",
       "      <th>proto</th>\n",
       "      <th>src_ip</th>\n",
       "      <th>src_port</th>\n",
       "      <th>time_end</th>\n",
       "      <th>time_start</th>\n",
       "      <th>total_entropy</th>\n",
       "      <th>label</th>\n",
       "      <th>duration</th>\n",
       "    </tr>\n",
       "  </thead>\n",
       "  <tbody>\n",
       "    <tr>\n",
       "      <th>0</th>\n",
       "      <td>2716.142857</td>\n",
       "      <td>969</td>\n",
       "      <td>10051</td>\n",
       "      <td>786</td>\n",
       "      <td>9200</td>\n",
       "      <td>3.093910</td>\n",
       "      <td>7</td>\n",
       "      <td>7</td>\n",
       "      <td>6</td>\n",
       "      <td>786</td>\n",
       "      <td>56328</td>\n",
       "      <td>160946769170627</td>\n",
       "      <td>1609467672690358</td>\n",
       "      <td>34094.88700</td>\n",
       "      <td>benign</td>\n",
       "      <td>19.015911</td>\n",
       "    </tr>\n",
       "    <tr>\n",
       "      <th>1</th>\n",
       "      <td>1901.400000</td>\n",
       "      <td>967</td>\n",
       "      <td>23531</td>\n",
       "      <td>786</td>\n",
       "      <td>9200</td>\n",
       "      <td>1.642038</td>\n",
       "      <td>10</td>\n",
       "      <td>7</td>\n",
       "      <td>6</td>\n",
       "      <td>786</td>\n",
       "      <td>56324</td>\n",
       "      <td>1609467691706011</td>\n",
       "      <td>1609467672689065</td>\n",
       "      <td>40226.65200</td>\n",
       "      <td>benign</td>\n",
       "      <td>19.016947</td>\n",
       "    </tr>\n",
       "    <tr>\n",
       "      <th>2</th>\n",
       "      <td>907.312500</td>\n",
       "      <td>754</td>\n",
       "      <td>32742</td>\n",
       "      <td>786</td>\n",
       "      <td>9092</td>\n",
       "      <td>1.111004</td>\n",
       "      <td>32</td>\n",
       "      <td>20</td>\n",
       "      <td>6</td>\n",
       "      <td>786</td>\n",
       "      <td>57148</td>\n",
       "      <td>1609467701725488</td>\n",
       "      <td>1609467672683006</td>\n",
       "      <td>37214.20000</td>\n",
       "      <td>benign</td>\n",
       "      <td>29.042482</td>\n",
       "    </tr>\n",
       "    <tr>\n",
       "      <th>3</th>\n",
       "      <td>549.842105</td>\n",
       "      <td>588</td>\n",
       "      <td>13833</td>\n",
       "      <td>786</td>\n",
       "      <td>9300</td>\n",
       "      <td>2.344926</td>\n",
       "      <td>57</td>\n",
       "      <td>34</td>\n",
       "      <td>6</td>\n",
       "      <td>786</td>\n",
       "      <td>56998</td>\n",
       "      <td>1609467713462009</td>\n",
       "      <td>1609467682094405</td>\n",
       "      <td>33816.18400</td>\n",
       "      <td>benign</td>\n",
       "      <td>31.367603</td>\n",
       "    </tr>\n",
       "    <tr>\n",
       "      <th>4</th>\n",
       "      <td>4288.714286</td>\n",
       "      <td>0</td>\n",
       "      <td>224</td>\n",
       "      <td>15169</td>\n",
       "      <td>53</td>\n",
       "      <td>3.326140</td>\n",
       "      <td>7</td>\n",
       "      <td>0</td>\n",
       "      <td>17</td>\n",
       "      <td>786</td>\n",
       "      <td>46151</td>\n",
       "      <td>1609467715620521</td>\n",
       "      <td>1609467685597113</td>\n",
       "      <td>745.05536</td>\n",
       "      <td>benign</td>\n",
       "      <td>30.023409</td>\n",
       "    </tr>\n",
       "    <tr>\n",
       "      <th>...</th>\n",
       "      <td>...</td>\n",
       "      <td>...</td>\n",
       "      <td>...</td>\n",
       "      <td>...</td>\n",
       "      <td>...</td>\n",
       "      <td>...</td>\n",
       "      <td>...</td>\n",
       "      <td>...</td>\n",
       "      <td>...</td>\n",
       "      <td>...</td>\n",
       "      <td>...</td>\n",
       "      <td>...</td>\n",
       "      <td>...</td>\n",
       "      <td>...</td>\n",
       "      <td>...</td>\n",
       "      <td>...</td>\n",
       "    </tr>\n",
       "    <tr>\n",
       "      <th>43773</th>\n",
       "      <td>728.090909</td>\n",
       "      <td>721</td>\n",
       "      <td>52541</td>\n",
       "      <td>786</td>\n",
       "      <td>9200</td>\n",
       "      <td>0.791238</td>\n",
       "      <td>11</td>\n",
       "      <td>6</td>\n",
       "      <td>6</td>\n",
       "      <td>786</td>\n",
       "      <td>56318</td>\n",
       "      <td>160954557746121</td>\n",
       "      <td>1609545569450156</td>\n",
       "      <td>42142.94500</td>\n",
       "      <td>benign</td>\n",
       "      <td>8.011054</td>\n",
       "    </tr>\n",
       "    <tr>\n",
       "      <th>43774</th>\n",
       "      <td>2.000000</td>\n",
       "      <td>326</td>\n",
       "      <td>10147</td>\n",
       "      <td>786</td>\n",
       "      <td>9200</td>\n",
       "      <td>2.675070</td>\n",
       "      <td>4</td>\n",
       "      <td>2</td>\n",
       "      <td>6</td>\n",
       "      <td>786</td>\n",
       "      <td>56324</td>\n",
       "      <td>160954556945598</td>\n",
       "      <td>1609545569447221</td>\n",
       "      <td>28016.00400</td>\n",
       "      <td>benign</td>\n",
       "      <td>0.008759</td>\n",
       "    </tr>\n",
       "    <tr>\n",
       "      <th>43775</th>\n",
       "      <td>0.000000</td>\n",
       "      <td>0</td>\n",
       "      <td>0</td>\n",
       "      <td>15169</td>\n",
       "      <td>53</td>\n",
       "      <td>0.000000</td>\n",
       "      <td>4</td>\n",
       "      <td>0</td>\n",
       "      <td>6</td>\n",
       "      <td>786</td>\n",
       "      <td>50018</td>\n",
       "      <td>1609545585432444</td>\n",
       "      <td>1609545578304481</td>\n",
       "      <td>0.00000</td>\n",
       "      <td>benign</td>\n",
       "      <td>7.127963</td>\n",
       "    </tr>\n",
       "    <tr>\n",
       "      <th>43776</th>\n",
       "      <td>0.500000</td>\n",
       "      <td>457</td>\n",
       "      <td>1370</td>\n",
       "      <td>786</td>\n",
       "      <td>9300</td>\n",
       "      <td>5.862206</td>\n",
       "      <td>2</td>\n",
       "      <td>1</td>\n",
       "      <td>6</td>\n",
       "      <td>786</td>\n",
       "      <td>59370</td>\n",
       "      <td>1609545586890016</td>\n",
       "      <td>1609545586888719</td>\n",
       "      <td>10710.24900</td>\n",
       "      <td>benign</td>\n",
       "      <td>0.001297</td>\n",
       "    </tr>\n",
       "    <tr>\n",
       "      <th>43777</th>\n",
       "      <td>485.919355</td>\n",
       "      <td>651</td>\n",
       "      <td>14787</td>\n",
       "      <td>786</td>\n",
       "      <td>9300</td>\n",
       "      <td>2.252627</td>\n",
       "      <td>62</td>\n",
       "      <td>35</td>\n",
       "      <td>6</td>\n",
       "      <td>786</td>\n",
       "      <td>56998</td>\n",
       "      <td>1609545592149107</td>\n",
       "      <td>1609545561992772</td>\n",
       "      <td>34776.06000</td>\n",
       "      <td>benign</td>\n",
       "      <td>30.156336</td>\n",
       "    </tr>\n",
       "  </tbody>\n",
       "</table>\n",
       "<p>43778 rows × 16 columns</p>\n",
       "</div>"
      ],
      "text/plain": [
       "           avg_ipt  bytes_in  bytes_out  dest_ip  dest_port   entropy  \\\n",
       "0      2716.142857       969      10051      786       9200  3.093910   \n",
       "1      1901.400000       967      23531      786       9200  1.642038   \n",
       "2       907.312500       754      32742      786       9092  1.111004   \n",
       "3       549.842105       588      13833      786       9300  2.344926   \n",
       "4      4288.714286         0        224    15169         53  3.326140   \n",
       "...            ...       ...        ...      ...        ...       ...   \n",
       "43773   728.090909       721      52541      786       9200  0.791238   \n",
       "43774     2.000000       326      10147      786       9200  2.675070   \n",
       "43775     0.000000         0          0    15169         53  0.000000   \n",
       "43776     0.500000       457       1370      786       9300  5.862206   \n",
       "43777   485.919355       651      14787      786       9300  2.252627   \n",
       "\n",
       "       num_pkts_out  num_pkts_in  proto  src_ip  src_port          time_end  \\\n",
       "0                 7            7      6     786     56328   160946769170627   \n",
       "1                10            7      6     786     56324  1609467691706011   \n",
       "2                32           20      6     786     57148  1609467701725488   \n",
       "3                57           34      6     786     56998  1609467713462009   \n",
       "4                 7            0     17     786     46151  1609467715620521   \n",
       "...             ...          ...    ...     ...       ...               ...   \n",
       "43773            11            6      6     786     56318   160954557746121   \n",
       "43774             4            2      6     786     56324   160954556945598   \n",
       "43775             4            0      6     786     50018  1609545585432444   \n",
       "43776             2            1      6     786     59370  1609545586890016   \n",
       "43777            62           35      6     786     56998  1609545592149107   \n",
       "\n",
       "             time_start  total_entropy   label   duration  \n",
       "0      1609467672690358    34094.88700  benign  19.015911  \n",
       "1      1609467672689065    40226.65200  benign  19.016947  \n",
       "2      1609467672683006    37214.20000  benign  29.042482  \n",
       "3      1609467682094405    33816.18400  benign  31.367603  \n",
       "4      1609467685597113      745.05536  benign  30.023409  \n",
       "...                 ...            ...     ...        ...  \n",
       "43773  1609545569450156    42142.94500  benign   8.011054  \n",
       "43774  1609545569447221    28016.00400  benign   0.008759  \n",
       "43775  1609545578304481        0.00000  benign   7.127963  \n",
       "43776  1609545586888719    10710.24900  benign   0.001297  \n",
       "43777  1609545561992772    34776.06000  benign  30.156336  \n",
       "\n",
       "[43778 rows x 16 columns]"
      ]
     },
     "execution_count": 3,
     "metadata": {},
     "output_type": "execute_result"
    }
   ],
   "source": [
    "pd.DataFrame(df_true)"
   ]
  },
  {
   "cell_type": "code",
   "execution_count": 4,
   "metadata": {},
   "outputs": [
    {
     "data": {
      "text/plain": [
       "((43778, 16), (18316, 16), (7851, 16))"
      ]
     },
     "execution_count": 4,
     "metadata": {},
     "output_type": "execute_result"
    }
   ],
   "source": [
    "X_train = df_true # 학습 데이터로 normal 데이터만을 취급한다.\n",
    "X_test, X_val = train_test_split(df_all, test_size=0.3, random_state=42)\n",
    "# test, validation은 abnormal +\n",
    "\n",
    "X_train.shape, X_test.shape, X_val.shape"
   ]
  },
  {
   "cell_type": "code",
   "execution_count": 5,
   "metadata": {},
   "outputs": [
    {
     "data": {
      "text/plain": [
       "Text(0, 0.5, 'frequency')"
      ]
     },
     "execution_count": 5,
     "metadata": {},
     "output_type": "execute_result"
    },
    {
     "data": {
      "image/png": "[encoded data removed]",
      "text/plain": [
       "<Figure size 640x480 with 1 Axes>"
      ]
     },
     "metadata": {},
     "output_type": "display_data"
    }
   ],
   "source": [
    "LABELS = ['benign', 'outlier', 'malicious']\n",
    "\n",
    "count_classes = pd.value_counts(X_train['label'], sort=True)\n",
    "count_classes.plot(kind='bar', rot=0)\n",
    "plt.title('Transaction class distribution')\n",
    "plt.xticks(range(3), LABELS)\n",
    "plt.xlabel('label')\n",
    "plt.ylabel('frequency')"
   ]
  },
  {
   "cell_type": "code",
   "execution_count": 6,
   "metadata": {},
   "outputs": [
    {
     "data": {
      "text/plain": [
       "([<matplotlib.axis.XTick at 0x7f9e5f4549d0>,\n",
       "  <matplotlib.axis.XTick at 0x7f9e5f4549a0>,\n",
       "  <matplotlib.axis.XTick at 0x7f9e498e8e50>],\n",
       " [Text(0, 0, 'benign'), Text(1, 0, 'outlier'), Text(2, 0, 'malicious')])"
      ]
     },
     "execution_count": 6,
     "metadata": {},
     "output_type": "execute_result"
    },
    {
     "data": {
      "image/png": "[encoded data removed]",
      "text/plain": [
       "<Figure size 640x480 with 1 Axes>"
      ]
     },
     "metadata": {},
     "output_type": "display_data"
    }
   ],
   "source": [
    "count_classes_all = pd.value_counts(df_all['label'], sort=True)\n",
    "count_classes_all.plot(kind='bar', rot=0)\n",
    "plt.xticks(range(3), LABELS)"
   ]
  },
  {
   "cell_type": "code",
   "execution_count": 7,
   "metadata": {},
   "outputs": [
    {
     "data": {
      "text/html": [
       "<div>\n",
       "<style scoped>\n",
       "    .dataframe tbody tr th:only-of-type {\n",
       "        vertical-align: middle;\n",
       "    }\n",
       "\n",
       "    .dataframe tbody tr th {\n",
       "        vertical-align: top;\n",
       "    }\n",
       "\n",
       "    .dataframe thead th {\n",
       "        text-align: right;\n",
       "    }\n",
       "</style>\n",
       "<table border=\"1\" class=\"dataframe\">\n",
       "  <thead>\n",
       "    <tr style=\"text-align: right;\">\n",
       "      <th></th>\n",
       "      <th>avg_ipt</th>\n",
       "      <th>bytes_in</th>\n",
       "      <th>bytes_out</th>\n",
       "      <th>dest_ip</th>\n",
       "      <th>dest_port</th>\n",
       "      <th>entropy</th>\n",
       "      <th>num_pkts_out</th>\n",
       "      <th>num_pkts_in</th>\n",
       "      <th>proto</th>\n",
       "      <th>src_ip</th>\n",
       "      <th>src_port</th>\n",
       "      <th>time_end</th>\n",
       "      <th>time_start</th>\n",
       "      <th>total_entropy</th>\n",
       "      <th>label</th>\n",
       "      <th>duration</th>\n",
       "    </tr>\n",
       "  </thead>\n",
       "  <tbody>\n",
       "    <tr>\n",
       "      <th>0</th>\n",
       "      <td>2716.142857</td>\n",
       "      <td>969</td>\n",
       "      <td>10051</td>\n",
       "      <td>786</td>\n",
       "      <td>9200</td>\n",
       "      <td>3.093910</td>\n",
       "      <td>7</td>\n",
       "      <td>7</td>\n",
       "      <td>6</td>\n",
       "      <td>786</td>\n",
       "      <td>56328</td>\n",
       "      <td>160946769170627</td>\n",
       "      <td>1609467672690358</td>\n",
       "      <td>34094.88700</td>\n",
       "      <td>benign</td>\n",
       "      <td>19.015911</td>\n",
       "    </tr>\n",
       "    <tr>\n",
       "      <th>1</th>\n",
       "      <td>1901.400000</td>\n",
       "      <td>967</td>\n",
       "      <td>23531</td>\n",
       "      <td>786</td>\n",
       "      <td>9200</td>\n",
       "      <td>1.642038</td>\n",
       "      <td>10</td>\n",
       "      <td>7</td>\n",
       "      <td>6</td>\n",
       "      <td>786</td>\n",
       "      <td>56324</td>\n",
       "      <td>1609467691706011</td>\n",
       "      <td>1609467672689065</td>\n",
       "      <td>40226.65200</td>\n",
       "      <td>benign</td>\n",
       "      <td>19.016947</td>\n",
       "    </tr>\n",
       "    <tr>\n",
       "      <th>2</th>\n",
       "      <td>907.312500</td>\n",
       "      <td>754</td>\n",
       "      <td>32742</td>\n",
       "      <td>786</td>\n",
       "      <td>9092</td>\n",
       "      <td>1.111004</td>\n",
       "      <td>32</td>\n",
       "      <td>20</td>\n",
       "      <td>6</td>\n",
       "      <td>786</td>\n",
       "      <td>57148</td>\n",
       "      <td>1609467701725488</td>\n",
       "      <td>1609467672683006</td>\n",
       "      <td>37214.20000</td>\n",
       "      <td>benign</td>\n",
       "      <td>29.042482</td>\n",
       "    </tr>\n",
       "    <tr>\n",
       "      <th>3</th>\n",
       "      <td>549.842105</td>\n",
       "      <td>588</td>\n",
       "      <td>13833</td>\n",
       "      <td>786</td>\n",
       "      <td>9300</td>\n",
       "      <td>2.344926</td>\n",
       "      <td>57</td>\n",
       "      <td>34</td>\n",
       "      <td>6</td>\n",
       "      <td>786</td>\n",
       "      <td>56998</td>\n",
       "      <td>1609467713462009</td>\n",
       "      <td>1609467682094405</td>\n",
       "      <td>33816.18400</td>\n",
       "      <td>benign</td>\n",
       "      <td>31.367603</td>\n",
       "    </tr>\n",
       "    <tr>\n",
       "      <th>4</th>\n",
       "      <td>4288.714286</td>\n",
       "      <td>0</td>\n",
       "      <td>224</td>\n",
       "      <td>15169</td>\n",
       "      <td>53</td>\n",
       "      <td>3.326140</td>\n",
       "      <td>7</td>\n",
       "      <td>0</td>\n",
       "      <td>17</td>\n",
       "      <td>786</td>\n",
       "      <td>46151</td>\n",
       "      <td>1609467715620521</td>\n",
       "      <td>1609467685597113</td>\n",
       "      <td>745.05536</td>\n",
       "      <td>benign</td>\n",
       "      <td>30.023409</td>\n",
       "    </tr>\n",
       "    <tr>\n",
       "      <th>...</th>\n",
       "      <td>...</td>\n",
       "      <td>...</td>\n",
       "      <td>...</td>\n",
       "      <td>...</td>\n",
       "      <td>...</td>\n",
       "      <td>...</td>\n",
       "      <td>...</td>\n",
       "      <td>...</td>\n",
       "      <td>...</td>\n",
       "      <td>...</td>\n",
       "      <td>...</td>\n",
       "      <td>...</td>\n",
       "      <td>...</td>\n",
       "      <td>...</td>\n",
       "      <td>...</td>\n",
       "      <td>...</td>\n",
       "    </tr>\n",
       "    <tr>\n",
       "      <th>43773</th>\n",
       "      <td>728.090909</td>\n",
       "      <td>721</td>\n",
       "      <td>52541</td>\n",
       "      <td>786</td>\n",
       "      <td>9200</td>\n",
       "      <td>0.791238</td>\n",
       "      <td>11</td>\n",
       "      <td>6</td>\n",
       "      <td>6</td>\n",
       "      <td>786</td>\n",
       "      <td>56318</td>\n",
       "      <td>160954557746121</td>\n",
       "      <td>1609545569450156</td>\n",
       "      <td>42142.94500</td>\n",
       "      <td>benign</td>\n",
       "      <td>8.011054</td>\n",
       "    </tr>\n",
       "    <tr>\n",
       "      <th>43774</th>\n",
       "      <td>2.000000</td>\n",
       "      <td>326</td>\n",
       "      <td>10147</td>\n",
       "      <td>786</td>\n",
       "      <td>9200</td>\n",
       "      <td>2.675070</td>\n",
       "      <td>4</td>\n",
       "      <td>2</td>\n",
       "      <td>6</td>\n",
       "      <td>786</td>\n",
       "      <td>56324</td>\n",
       "      <td>160954556945598</td>\n",
       "      <td>1609545569447221</td>\n",
       "      <td>28016.00400</td>\n",
       "      <td>benign</td>\n",
       "      <td>0.008759</td>\n",
       "    </tr>\n",
       "    <tr>\n",
       "      <th>43775</th>\n",
       "      <td>0.000000</td>\n",
       "      <td>0</td>\n",
       "      <td>0</td>\n",
       "      <td>15169</td>\n",
       "      <td>53</td>\n",
       "      <td>0.000000</td>\n",
       "      <td>4</td>\n",
       "      <td>0</td>\n",
       "      <td>6</td>\n",
       "      <td>786</td>\n",
       "      <td>50018</td>\n",
       "      <td>1609545585432444</td>\n",
       "      <td>1609545578304481</td>\n",
       "      <td>0.00000</td>\n",
       "      <td>benign</td>\n",
       "      <td>7.127963</td>\n",
       "    </tr>\n",
       "    <tr>\n",
       "      <th>43776</th>\n",
       "      <td>0.500000</td>\n",
       "      <td>457</td>\n",
       "      <td>1370</td>\n",
       "      <td>786</td>\n",
       "      <td>9300</td>\n",
       "      <td>5.862206</td>\n",
       "      <td>2</td>\n",
       "      <td>1</td>\n",
       "      <td>6</td>\n",
       "      <td>786</td>\n",
       "      <td>59370</td>\n",
       "      <td>1609545586890016</td>\n",
       "      <td>1609545586888719</td>\n",
       "      <td>10710.24900</td>\n",
       "      <td>benign</td>\n",
       "      <td>0.001297</td>\n",
       "    </tr>\n",
       "    <tr>\n",
       "      <th>43777</th>\n",
       "      <td>485.919355</td>\n",
       "      <td>651</td>\n",
       "      <td>14787</td>\n",
       "      <td>786</td>\n",
       "      <td>9300</td>\n",
       "      <td>2.252627</td>\n",
       "      <td>62</td>\n",
       "      <td>35</td>\n",
       "      <td>6</td>\n",
       "      <td>786</td>\n",
       "      <td>56998</td>\n",
       "      <td>1609545592149107</td>\n",
       "      <td>1609545561992772</td>\n",
       "      <td>34776.06000</td>\n",
       "      <td>benign</td>\n",
       "      <td>30.156336</td>\n",
       "    </tr>\n",
       "  </tbody>\n",
       "</table>\n",
       "<p>43778 rows × 16 columns</p>\n",
       "</div>"
      ],
      "text/plain": [
       "           avg_ipt  bytes_in  bytes_out  dest_ip  dest_port   entropy  \\\n",
       "0      2716.142857       969      10051      786       9200  3.093910   \n",
       "1      1901.400000       967      23531      786       9200  1.642038   \n",
       "2       907.312500       754      32742      786       9092  1.111004   \n",
       "3       549.842105       588      13833      786       9300  2.344926   \n",
       "4      4288.714286         0        224    15169         53  3.326140   \n",
       "...            ...       ...        ...      ...        ...       ...   \n",
       "43773   728.090909       721      52541      786       9200  0.791238   \n",
       "43774     2.000000       326      10147      786       9200  2.675070   \n",
       "43775     0.000000         0          0    15169         53  0.000000   \n",
       "43776     0.500000       457       1370      786       9300  5.862206   \n",
       "43777   485.919355       651      14787      786       9300  2.252627   \n",
       "\n",
       "       num_pkts_out  num_pkts_in  proto  src_ip  src_port          time_end  \\\n",
       "0                 7            7      6     786     56328   160946769170627   \n",
       "1                10            7      6     786     56324  1609467691706011   \n",
       "2                32           20      6     786     57148  1609467701725488   \n",
       "3                57           34      6     786     56998  1609467713462009   \n",
       "4                 7            0     17     786     46151  1609467715620521   \n",
       "...             ...          ...    ...     ...       ...               ...   \n",
       "43773            11            6      6     786     56318   160954557746121   \n",
       "43774             4            2      6     786     56324   160954556945598   \n",
       "43775             4            0      6     786     50018  1609545585432444   \n",
       "43776             2            1      6     786     59370  1609545586890016   \n",
       "43777            62           35      6     786     56998  1609545592149107   \n",
       "\n",
       "             time_start  total_entropy   label   duration  \n",
       "0      1609467672690358    34094.88700  benign  19.015911  \n",
       "1      1609467672689065    40226.65200  benign  19.016947  \n",
       "2      1609467672683006    37214.20000  benign  29.042482  \n",
       "3      1609467682094405    33816.18400  benign  31.367603  \n",
       "4      1609467685597113      745.05536  benign  30.023409  \n",
       "...                 ...            ...     ...        ...  \n",
       "43773  1609545569450156    42142.94500  benign   8.011054  \n",
       "43774  1609545569447221    28016.00400  benign   0.008759  \n",
       "43775  1609545578304481        0.00000  benign   7.127963  \n",
       "43776  1609545586888719    10710.24900  benign   0.001297  \n",
       "43777  1609545561992772    34776.06000  benign  30.156336  \n",
       "\n",
       "[43778 rows x 16 columns]"
      ]
     },
     "execution_count": 7,
     "metadata": {},
     "output_type": "execute_result"
    }
   ],
   "source": [
    "pd.DataFrame(X_train)"
   ]
  },
  {
   "cell_type": "code",
   "execution_count": 8,
   "metadata": {},
   "outputs": [],
   "source": [
    "y_test = X_test['label']\n",
    "\n",
    "X_train = pd.DataFrame(X_train).drop(['label'], axis=1)\n",
    "X_test = pd.DataFrame(X_test).drop(['label'], axis=1)\n",
    "X_val = pd.DataFrame(X_val).drop(['label'], axis=1)\n",
    "\n",
    "X_train = X_train.values\n",
    "X_test = X_test.values\n",
    "X_val = X_val.values"
   ]
  },
  {
   "cell_type": "code",
   "execution_count": 9,
   "metadata": {},
   "outputs": [
    {
     "data": {
      "text/html": [
       "<div>\n",
       "<style scoped>\n",
       "    .dataframe tbody tr th:only-of-type {\n",
       "        vertical-align: middle;\n",
       "    }\n",
       "\n",
       "    .dataframe tbody tr th {\n",
       "        vertical-align: top;\n",
       "    }\n",
       "\n",
       "    .dataframe thead th {\n",
       "        text-align: right;\n",
       "    }\n",
       "</style>\n",
       "<table border=\"1\" class=\"dataframe\">\n",
       "  <thead>\n",
       "    <tr style=\"text-align: right;\">\n",
       "      <th></th>\n",
       "      <th>0</th>\n",
       "      <th>1</th>\n",
       "      <th>2</th>\n",
       "      <th>3</th>\n",
       "      <th>4</th>\n",
       "      <th>5</th>\n",
       "      <th>6</th>\n",
       "      <th>7</th>\n",
       "      <th>8</th>\n",
       "      <th>9</th>\n",
       "      <th>10</th>\n",
       "      <th>11</th>\n",
       "      <th>12</th>\n",
       "      <th>13</th>\n",
       "      <th>14</th>\n",
       "    </tr>\n",
       "  </thead>\n",
       "  <tbody>\n",
       "    <tr>\n",
       "      <th>0</th>\n",
       "      <td>2716.142857</td>\n",
       "      <td>969.0</td>\n",
       "      <td>10051.0</td>\n",
       "      <td>786.0</td>\n",
       "      <td>9200.0</td>\n",
       "      <td>3.093910</td>\n",
       "      <td>7.0</td>\n",
       "      <td>7.0</td>\n",
       "      <td>6.0</td>\n",
       "      <td>786.0</td>\n",
       "      <td>56328.0</td>\n",
       "      <td>1.609468e+14</td>\n",
       "      <td>1.609468e+15</td>\n",
       "      <td>34094.88700</td>\n",
       "      <td>19.015911</td>\n",
       "    </tr>\n",
       "    <tr>\n",
       "      <th>1</th>\n",
       "      <td>1901.400000</td>\n",
       "      <td>967.0</td>\n",
       "      <td>23531.0</td>\n",
       "      <td>786.0</td>\n",
       "      <td>9200.0</td>\n",
       "      <td>1.642038</td>\n",
       "      <td>10.0</td>\n",
       "      <td>7.0</td>\n",
       "      <td>6.0</td>\n",
       "      <td>786.0</td>\n",
       "      <td>56324.0</td>\n",
       "      <td>1.609468e+15</td>\n",
       "      <td>1.609468e+15</td>\n",
       "      <td>40226.65200</td>\n",
       "      <td>19.016947</td>\n",
       "    </tr>\n",
       "    <tr>\n",
       "      <th>2</th>\n",
       "      <td>907.312500</td>\n",
       "      <td>754.0</td>\n",
       "      <td>32742.0</td>\n",
       "      <td>786.0</td>\n",
       "      <td>9092.0</td>\n",
       "      <td>1.111004</td>\n",
       "      <td>32.0</td>\n",
       "      <td>20.0</td>\n",
       "      <td>6.0</td>\n",
       "      <td>786.0</td>\n",
       "      <td>57148.0</td>\n",
       "      <td>1.609468e+15</td>\n",
       "      <td>1.609468e+15</td>\n",
       "      <td>37214.20000</td>\n",
       "      <td>29.042482</td>\n",
       "    </tr>\n",
       "    <tr>\n",
       "      <th>3</th>\n",
       "      <td>549.842105</td>\n",
       "      <td>588.0</td>\n",
       "      <td>13833.0</td>\n",
       "      <td>786.0</td>\n",
       "      <td>9300.0</td>\n",
       "      <td>2.344926</td>\n",
       "      <td>57.0</td>\n",
       "      <td>34.0</td>\n",
       "      <td>6.0</td>\n",
       "      <td>786.0</td>\n",
       "      <td>56998.0</td>\n",
       "      <td>1.609468e+15</td>\n",
       "      <td>1.609468e+15</td>\n",
       "      <td>33816.18400</td>\n",
       "      <td>31.367603</td>\n",
       "    </tr>\n",
       "    <tr>\n",
       "      <th>4</th>\n",
       "      <td>4288.714286</td>\n",
       "      <td>0.0</td>\n",
       "      <td>224.0</td>\n",
       "      <td>15169.0</td>\n",
       "      <td>53.0</td>\n",
       "      <td>3.326140</td>\n",
       "      <td>7.0</td>\n",
       "      <td>0.0</td>\n",
       "      <td>17.0</td>\n",
       "      <td>786.0</td>\n",
       "      <td>46151.0</td>\n",
       "      <td>1.609468e+15</td>\n",
       "      <td>1.609468e+15</td>\n",
       "      <td>745.05536</td>\n",
       "      <td>30.023409</td>\n",
       "    </tr>\n",
       "    <tr>\n",
       "      <th>...</th>\n",
       "      <td>...</td>\n",
       "      <td>...</td>\n",
       "      <td>...</td>\n",
       "      <td>...</td>\n",
       "      <td>...</td>\n",
       "      <td>...</td>\n",
       "      <td>...</td>\n",
       "      <td>...</td>\n",
       "      <td>...</td>\n",
       "      <td>...</td>\n",
       "      <td>...</td>\n",
       "      <td>...</td>\n",
       "      <td>...</td>\n",
       "      <td>...</td>\n",
       "      <td>...</td>\n",
       "    </tr>\n",
       "    <tr>\n",
       "      <th>43773</th>\n",
       "      <td>728.090909</td>\n",
       "      <td>721.0</td>\n",
       "      <td>52541.0</td>\n",
       "      <td>786.0</td>\n",
       "      <td>9200.0</td>\n",
       "      <td>0.791238</td>\n",
       "      <td>11.0</td>\n",
       "      <td>6.0</td>\n",
       "      <td>6.0</td>\n",
       "      <td>786.0</td>\n",
       "      <td>56318.0</td>\n",
       "      <td>1.609546e+14</td>\n",
       "      <td>1.609546e+15</td>\n",
       "      <td>42142.94500</td>\n",
       "      <td>8.011054</td>\n",
       "    </tr>\n",
       "    <tr>\n",
       "      <th>43774</th>\n",
       "      <td>2.000000</td>\n",
       "      <td>326.0</td>\n",
       "      <td>10147.0</td>\n",
       "      <td>786.0</td>\n",
       "      <td>9200.0</td>\n",
       "      <td>2.675070</td>\n",
       "      <td>4.0</td>\n",
       "      <td>2.0</td>\n",
       "      <td>6.0</td>\n",
       "      <td>786.0</td>\n",
       "      <td>56324.0</td>\n",
       "      <td>1.609546e+14</td>\n",
       "      <td>1.609546e+15</td>\n",
       "      <td>28016.00400</td>\n",
       "      <td>0.008759</td>\n",
       "    </tr>\n",
       "    <tr>\n",
       "      <th>43775</th>\n",
       "      <td>0.000000</td>\n",
       "      <td>0.0</td>\n",
       "      <td>0.0</td>\n",
       "      <td>15169.0</td>\n",
       "      <td>53.0</td>\n",
       "      <td>0.000000</td>\n",
       "      <td>4.0</td>\n",
       "      <td>0.0</td>\n",
       "      <td>6.0</td>\n",
       "      <td>786.0</td>\n",
       "      <td>50018.0</td>\n",
       "      <td>1.609546e+15</td>\n",
       "      <td>1.609546e+15</td>\n",
       "      <td>0.00000</td>\n",
       "      <td>7.127963</td>\n",
       "    </tr>\n",
       "    <tr>\n",
       "      <th>43776</th>\n",
       "      <td>0.500000</td>\n",
       "      <td>457.0</td>\n",
       "      <td>1370.0</td>\n",
       "      <td>786.0</td>\n",
       "      <td>9300.0</td>\n",
       "      <td>5.862206</td>\n",
       "      <td>2.0</td>\n",
       "      <td>1.0</td>\n",
       "      <td>6.0</td>\n",
       "      <td>786.0</td>\n",
       "      <td>59370.0</td>\n",
       "      <td>1.609546e+15</td>\n",
       "      <td>1.609546e+15</td>\n",
       "      <td>10710.24900</td>\n",
       "      <td>0.001297</td>\n",
       "    </tr>\n",
       "    <tr>\n",
       "      <th>43777</th>\n",
       "      <td>485.919355</td>\n",
       "      <td>651.0</td>\n",
       "      <td>14787.0</td>\n",
       "      <td>786.0</td>\n",
       "      <td>9300.0</td>\n",
       "      <td>2.252627</td>\n",
       "      <td>62.0</td>\n",
       "      <td>35.0</td>\n",
       "      <td>6.0</td>\n",
       "      <td>786.0</td>\n",
       "      <td>56998.0</td>\n",
       "      <td>1.609546e+15</td>\n",
       "      <td>1.609546e+15</td>\n",
       "      <td>34776.06000</td>\n",
       "      <td>30.156336</td>\n",
       "    </tr>\n",
       "  </tbody>\n",
       "</table>\n",
       "<p>43778 rows × 15 columns</p>\n",
       "</div>"
      ],
      "text/plain": [
       "                0      1        2        3       4         5     6     7   \\\n",
       "0      2716.142857  969.0  10051.0    786.0  9200.0  3.093910   7.0   7.0   \n",
       "1      1901.400000  967.0  23531.0    786.0  9200.0  1.642038  10.0   7.0   \n",
       "2       907.312500  754.0  32742.0    786.0  9092.0  1.111004  32.0  20.0   \n",
       "3       549.842105  588.0  13833.0    786.0  9300.0  2.344926  57.0  34.0   \n",
       "4      4288.714286    0.0    224.0  15169.0    53.0  3.326140   7.0   0.0   \n",
       "...            ...    ...      ...      ...     ...       ...   ...   ...   \n",
       "43773   728.090909  721.0  52541.0    786.0  9200.0  0.791238  11.0   6.0   \n",
       "43774     2.000000  326.0  10147.0    786.0  9200.0  2.675070   4.0   2.0   \n",
       "43775     0.000000    0.0      0.0  15169.0    53.0  0.000000   4.0   0.0   \n",
       "43776     0.500000  457.0   1370.0    786.0  9300.0  5.862206   2.0   1.0   \n",
       "43777   485.919355  651.0  14787.0    786.0  9300.0  2.252627  62.0  35.0   \n",
       "\n",
       "         8      9        10            11            12           13  \\\n",
       "0       6.0  786.0  56328.0  1.609468e+14  1.609468e+15  34094.88700   \n",
       "1       6.0  786.0  56324.0  1.609468e+15  1.609468e+15  40226.65200   \n",
       "2       6.0  786.0  57148.0  1.609468e+15  1.609468e+15  37214.20000   \n",
       "3       6.0  786.0  56998.0  1.609468e+15  1.609468e+15  33816.18400   \n",
       "4      17.0  786.0  46151.0  1.609468e+15  1.609468e+15    745.05536   \n",
       "...     ...    ...      ...           ...           ...          ...   \n",
       "43773   6.0  786.0  56318.0  1.609546e+14  1.609546e+15  42142.94500   \n",
       "43774   6.0  786.0  56324.0  1.609546e+14  1.609546e+15  28016.00400   \n",
       "43775   6.0  786.0  50018.0  1.609546e+15  1.609546e+15      0.00000   \n",
       "43776   6.0  786.0  59370.0  1.609546e+15  1.609546e+15  10710.24900   \n",
       "43777   6.0  786.0  56998.0  1.609546e+15  1.609546e+15  34776.06000   \n",
       "\n",
       "              14  \n",
       "0      19.015911  \n",
       "1      19.016947  \n",
       "2      29.042482  \n",
       "3      31.367603  \n",
       "4      30.023409  \n",
       "...          ...  \n",
       "43773   8.011054  \n",
       "43774   0.008759  \n",
       "43775   7.127963  \n",
       "43776   0.001297  \n",
       "43777  30.156336  \n",
       "\n",
       "[43778 rows x 15 columns]"
      ]
     },
     "execution_count": 9,
     "metadata": {},
     "output_type": "execute_result"
    }
   ],
   "source": [
    "pd.DataFrame(X_train)"
   ]
  },
  {
   "cell_type": "code",
   "execution_count": 10,
   "metadata": {},
   "outputs": [
    {
     "data": {
      "text/plain": [
       "((43778, 15), (18316, 15), (7851, 15))"
      ]
     },
     "execution_count": 10,
     "metadata": {},
     "output_type": "execute_result"
    }
   ],
   "source": [
    "scaler = MinMaxScaler()\n",
    "\n",
    "X_train = scaler.fit_transform(X_train)\n",
    "X_val = scaler.fit_transform(X_val)\n",
    "X_test = scaler.fit_transform(X_test)\n",
    "\n",
    "X_train.shape, X_test.shape, X_val.shape"
   ]
  },
  {
   "cell_type": "code",
   "execution_count": 11,
   "metadata": {},
   "outputs": [],
   "source": [
    "NUM_COL = 15"
   ]
  },
  {
   "cell_type": "code",
   "execution_count": 12,
   "metadata": {},
   "outputs": [],
   "source": [
    "learning_rate = 0.00001\n",
    "batch_size = 512\n",
    "epochs = 100\n",
    "adam = Adam(learning_rate=learning_rate, beta_1=0.5)"
   ]
  },
  {
   "cell_type": "code",
   "execution_count": 13,
   "metadata": {},
   "outputs": [],
   "source": [
    "from keras.models import Sequential\n",
    "from keras.initializers import Initializer\n",
    "from keras.layers import Activation\n",
    "from tqdm import tqdm"
   ]
  },
  {
   "cell_type": "code",
   "execution_count": 14,
   "metadata": {},
   "outputs": [],
   "source": [
    "def get_generator(optimizer):\n",
    "    generator = Sequential()\n",
    "    generator.add(Dense(64, input_dim=NUM_COL, kernel_initializer=glorot_normal(seed=42)))\n",
    "    generator.add(Activation('tanh'))\n",
    "\n",
    "    generator.add(Dense(128))\n",
    "    generator.add(Activation('tanh'))\n",
    "\n",
    "    generator.add(Dense(256))\n",
    "    generator.add(Activation('tanh'))\n",
    "\n",
    "    generator.add(Dense(512))\n",
    "    generator.add(Activation('tanh'))\n",
    "\n",
    "    generator.add(Dense(NUM_COL, activation='tanh'))\n",
    "\n",
    "    generator.compile(loss='binary_crossentropy', optimizer=Adam(lr=0.0002, beta_1=0.5))\n",
    "\n",
    "    return generator"
   ]
  },
  {
   "cell_type": "code",
   "execution_count": 15,
   "metadata": {},
   "outputs": [],
   "source": [
    "def get_discriminator(optimizer):\n",
    "    discriminator = Sequential()\n",
    "    \n",
    "    discriminator.add(Dense(256, input_dim=NUM_COL, kernel_initializer=glorot_normal(seed=42)))\n",
    "    discriminator.add(Activation('relu'))\n",
    "    discriminator.add(Dropout(0.2))\n",
    "\n",
    "    discriminator.add(Dense(128))\n",
    "    discriminator.add(Activation('relu'))\n",
    "    discriminator.add(Dropout(0.2))\n",
    "\n",
    "    discriminator.add(Dense(128))\n",
    "    discriminator.add(Activation('relu'))\n",
    "    discriminator.add(Dropout(0.2))\n",
    "\n",
    "    discriminator.add(Dense(128))\n",
    "    discriminator.add(Activation('relu'))\n",
    "    discriminator.add(Dropout(0.2))\n",
    "\n",
    "    discriminator.add(Dense(1))\n",
    "    discriminator.add(Activation('sigmoid'))\n",
    "\n",
    "    discriminator.compile(loss='binary_crossentropy', optimizer=Adam(lr=0.0002, beta_1=0.5))\n",
    "\n",
    "    return discriminator"
   ]
  },
  {
   "cell_type": "code",
   "execution_count": 16,
   "metadata": {},
   "outputs": [],
   "source": [
    "def get_gan_network(discriminator, generator, optimizer, input_dim=NUM_COL):\n",
    "    discriminator.trainable = False\n",
    "    gan_input = Input(shape=(input_dim, ))\n",
    "    x = generator(gan_input)\n",
    "    gan_output = discriminator(x)\n",
    "\n",
    "    gan = Model(inputs=gan_input, outputs=gan_output)\n",
    "    gan.compile(loss='binary_crossentropy', optimizer=Adam(lr=0.0002, beta_1=0.5))\n",
    "\n",
    "    return gan"
   ]
  },
  {
   "cell_type": "code",
   "execution_count": 17,
   "metadata": {},
   "outputs": [
    {
     "name": "stderr",
     "output_type": "stream",
     "text": [
      "  0%|          | 0/8500 [00:00<?, ?it/s]/Users/kimtaeyoon/opt/anaconda3/lib/python3.9/site-packages/keras/optimizers/optimizer_v2/adam.py:110: UserWarning: The `lr` argument is deprecated, use `learning_rate` instead.\n",
      "  super(Adam, self).__init__(name, **kwargs)\n",
      "  1%|          | 90/8500 [00:03<04:23, 31.97it/s] "
     ]
    },
    {
     "name": "stdout",
     "output_type": "stream",
     "text": [
      "Epoch 0 Batch 84/85 [D loss: 0.456684] [G loss: 0.375346]\n"
     ]
    },
    {
     "name": "stderr",
     "output_type": "stream",
     "text": [
      "  2%|▏         | 174/8500 [00:06<04:26, 31.20it/s]"
     ]
    },
    {
     "name": "stdout",
     "output_type": "stream",
     "text": [
      "Epoch 1 Batch 84/85 [D loss: 0.323174] [G loss: 0.372495]\n"
     ]
    },
    {
     "name": "stderr",
     "output_type": "stream",
     "text": [
      "  3%|▎         | 262/8500 [00:08<03:47, 36.22it/s]"
     ]
    },
    {
     "name": "stdout",
     "output_type": "stream",
     "text": [
      "Epoch 2 Batch 84/85 [D loss: 0.237525] [G loss: 0.833035]\n"
     ]
    },
    {
     "name": "stderr",
     "output_type": "stream",
     "text": [
      "  4%|▍         | 346/8500 [00:11<03:37, 37.45it/s]"
     ]
    },
    {
     "name": "stdout",
     "output_type": "stream",
     "text": [
      "Epoch 3 Batch 84/85 [D loss: 0.134843] [G loss: 2.484294]\n"
     ]
    },
    {
     "name": "stderr",
     "output_type": "stream",
     "text": [
      "  5%|▌         | 430/8500 [00:13<03:34, 37.69it/s]"
     ]
    },
    {
     "name": "stdout",
     "output_type": "stream",
     "text": [
      "Epoch 4 Batch 84/85 [D loss: 0.161582] [G loss: 0.463402]\n"
     ]
    },
    {
     "name": "stderr",
     "output_type": "stream",
     "text": [
      "  6%|▌         | 518/8500 [00:15<03:33, 37.38it/s]"
     ]
    },
    {
     "name": "stdout",
     "output_type": "stream",
     "text": [
      "Epoch 5 Batch 84/85 [D loss: 0.145041] [G loss: 0.710920]\n"
     ]
    },
    {
     "name": "stderr",
     "output_type": "stream",
     "text": [
      "  7%|▋         | 602/8500 [00:17<03:30, 37.53it/s]"
     ]
    },
    {
     "name": "stdout",
     "output_type": "stream",
     "text": [
      "Epoch 6 Batch 84/85 [D loss: 0.107404] [G loss: 1.565257]\n"
     ]
    },
    {
     "name": "stderr",
     "output_type": "stream",
     "text": [
      "  8%|▊         | 686/8500 [00:20<03:28, 37.47it/s]"
     ]
    },
    {
     "name": "stdout",
     "output_type": "stream",
     "text": [
      "Epoch 7 Batch 84/85 [D loss: 0.064019] [G loss: 0.937016]\n"
     ]
    },
    {
     "name": "stderr",
     "output_type": "stream",
     "text": [
      "  9%|▉         | 770/8500 [00:22<03:25, 37.53it/s]"
     ]
    },
    {
     "name": "stdout",
     "output_type": "stream",
     "text": [
      "Epoch 8 Batch 84/85 [D loss: 0.071349] [G loss: 1.198909]\n"
     ]
    },
    {
     "name": "stderr",
     "output_type": "stream",
     "text": [
      " 10%|█         | 858/8500 [00:24<03:26, 36.99it/s]"
     ]
    },
    {
     "name": "stdout",
     "output_type": "stream",
     "text": [
      "Epoch 9 Batch 84/85 [D loss: 0.060089] [G loss: 1.079839]\n"
     ]
    },
    {
     "name": "stderr",
     "output_type": "stream",
     "text": [
      " 11%|█         | 942/8500 [00:27<03:27, 36.39it/s]"
     ]
    },
    {
     "name": "stdout",
     "output_type": "stream",
     "text": [
      "Epoch 10 Batch 84/85 [D loss: 0.062972] [G loss: 1.418348]\n"
     ]
    },
    {
     "name": "stderr",
     "output_type": "stream",
     "text": [
      " 12%|█▏        | 1026/8500 [00:29<03:19, 37.48it/s]"
     ]
    },
    {
     "name": "stdout",
     "output_type": "stream",
     "text": [
      "Epoch 11 Batch 84/85 [D loss: 0.052098] [G loss: 0.708984]\n"
     ]
    },
    {
     "name": "stderr",
     "output_type": "stream",
     "text": [
      " 13%|█▎        | 1110/8500 [00:31<03:16, 37.63it/s]"
     ]
    },
    {
     "name": "stdout",
     "output_type": "stream",
     "text": [
      "Epoch 12 Batch 84/85 [D loss: 0.044567] [G loss: 1.345184]\n"
     ]
    },
    {
     "name": "stderr",
     "output_type": "stream",
     "text": [
      " 14%|█▍        | 1198/8500 [00:34<03:14, 37.52it/s]"
     ]
    },
    {
     "name": "stdout",
     "output_type": "stream",
     "text": [
      "Epoch 13 Batch 84/85 [D loss: 0.043850] [G loss: 1.176223]\n"
     ]
    },
    {
     "name": "stderr",
     "output_type": "stream",
     "text": [
      " 15%|█▌        | 1282/8500 [00:36<03:12, 37.56it/s]"
     ]
    },
    {
     "name": "stdout",
     "output_type": "stream",
     "text": [
      "Epoch 14 Batch 84/85 [D loss: 0.052516] [G loss: 0.918398]\n"
     ]
    },
    {
     "name": "stderr",
     "output_type": "stream",
     "text": [
      " 16%|█▌        | 1366/8500 [00:38<03:11, 37.19it/s]"
     ]
    },
    {
     "name": "stdout",
     "output_type": "stream",
     "text": [
      "Epoch 15 Batch 84/85 [D loss: 0.059303] [G loss: 1.225178]\n"
     ]
    },
    {
     "name": "stderr",
     "output_type": "stream",
     "text": [
      " 17%|█▋        | 1450/8500 [00:40<03:06, 37.76it/s]"
     ]
    },
    {
     "name": "stdout",
     "output_type": "stream",
     "text": [
      "Epoch 16 Batch 84/85 [D loss: 0.057014] [G loss: 1.960082]\n"
     ]
    },
    {
     "name": "stderr",
     "output_type": "stream",
     "text": [
      " 18%|█▊        | 1538/8500 [00:43<03:04, 37.67it/s]"
     ]
    },
    {
     "name": "stdout",
     "output_type": "stream",
     "text": [
      "Epoch 17 Batch 84/85 [D loss: 0.040655] [G loss: 1.742845]\n"
     ]
    },
    {
     "name": "stderr",
     "output_type": "stream",
     "text": [
      " 19%|█▉        | 1622/8500 [00:45<03:02, 37.64it/s]"
     ]
    },
    {
     "name": "stdout",
     "output_type": "stream",
     "text": [
      "Epoch 18 Batch 84/85 [D loss: 0.044077] [G loss: 1.537925]\n"
     ]
    },
    {
     "name": "stderr",
     "output_type": "stream",
     "text": [
      " 20%|██        | 1706/8500 [00:47<03:00, 37.71it/s]"
     ]
    },
    {
     "name": "stdout",
     "output_type": "stream",
     "text": [
      "Epoch 19 Batch 84/85 [D loss: 0.050211] [G loss: 1.484285]\n"
     ]
    },
    {
     "name": "stderr",
     "output_type": "stream",
     "text": [
      " 21%|██        | 1790/8500 [00:49<02:58, 37.66it/s]"
     ]
    },
    {
     "name": "stdout",
     "output_type": "stream",
     "text": [
      "Epoch 20 Batch 84/85 [D loss: 0.059376] [G loss: 1.986210]\n"
     ]
    },
    {
     "name": "stderr",
     "output_type": "stream",
     "text": [
      " 22%|██▏       | 1878/8500 [00:52<02:56, 37.61it/s]"
     ]
    },
    {
     "name": "stdout",
     "output_type": "stream",
     "text": [
      "Epoch 21 Batch 84/85 [D loss: 0.040083] [G loss: 2.894483]\n"
     ]
    },
    {
     "name": "stderr",
     "output_type": "stream",
     "text": [
      " 23%|██▎       | 1962/8500 [00:54<02:53, 37.73it/s]"
     ]
    },
    {
     "name": "stdout",
     "output_type": "stream",
     "text": [
      "Epoch 22 Batch 84/85 [D loss: 0.052847] [G loss: 2.273379]\n"
     ]
    },
    {
     "name": "stderr",
     "output_type": "stream",
     "text": [
      " 24%|██▍       | 2046/8500 [00:56<02:57, 36.46it/s]"
     ]
    },
    {
     "name": "stdout",
     "output_type": "stream",
     "text": [
      "Epoch 23 Batch 84/85 [D loss: 0.045289] [G loss: 2.772847]\n"
     ]
    },
    {
     "name": "stderr",
     "output_type": "stream",
     "text": [
      " 25%|██▌       | 2130/8500 [00:59<02:49, 37.61it/s]"
     ]
    },
    {
     "name": "stdout",
     "output_type": "stream",
     "text": [
      "Epoch 24 Batch 84/85 [D loss: 0.035476] [G loss: 2.953842]\n"
     ]
    },
    {
     "name": "stderr",
     "output_type": "stream",
     "text": [
      " 26%|██▌       | 2218/8500 [01:01<02:46, 37.72it/s]"
     ]
    },
    {
     "name": "stdout",
     "output_type": "stream",
     "text": [
      "Epoch 25 Batch 84/85 [D loss: 0.040937] [G loss: 2.740392]\n"
     ]
    },
    {
     "name": "stderr",
     "output_type": "stream",
     "text": [
      " 27%|██▋       | 2302/8500 [01:03<02:44, 37.65it/s]"
     ]
    },
    {
     "name": "stdout",
     "output_type": "stream",
     "text": [
      "Epoch 26 Batch 84/85 [D loss: 0.043192] [G loss: 2.387776]\n"
     ]
    },
    {
     "name": "stderr",
     "output_type": "stream",
     "text": [
      " 28%|██▊       | 2386/8500 [01:05<02:42, 37.58it/s]"
     ]
    },
    {
     "name": "stdout",
     "output_type": "stream",
     "text": [
      "Epoch 27 Batch 84/85 [D loss: 0.069421] [G loss: 2.897140]\n"
     ]
    },
    {
     "name": "stderr",
     "output_type": "stream",
     "text": [
      " 29%|██▉       | 2470/8500 [01:08<02:47, 36.10it/s]"
     ]
    },
    {
     "name": "stdout",
     "output_type": "stream",
     "text": [
      "Epoch 28 Batch 84/85 [D loss: 0.069775] [G loss: 2.231673]\n"
     ]
    },
    {
     "name": "stderr",
     "output_type": "stream",
     "text": [
      " 30%|███       | 2558/8500 [01:10<02:37, 37.71it/s]"
     ]
    },
    {
     "name": "stdout",
     "output_type": "stream",
     "text": [
      "Epoch 29 Batch 84/85 [D loss: 0.057096] [G loss: 1.813646]\n"
     ]
    },
    {
     "name": "stderr",
     "output_type": "stream",
     "text": [
      " 31%|███       | 2642/8500 [01:12<02:36, 37.50it/s]"
     ]
    },
    {
     "name": "stdout",
     "output_type": "stream",
     "text": [
      "Epoch 30 Batch 84/85 [D loss: 0.049995] [G loss: 1.733347]\n"
     ]
    },
    {
     "name": "stderr",
     "output_type": "stream",
     "text": [
      " 32%|███▏      | 2726/8500 [01:15<02:35, 37.16it/s]"
     ]
    },
    {
     "name": "stdout",
     "output_type": "stream",
     "text": [
      "Epoch 31 Batch 84/85 [D loss: 0.053227] [G loss: 1.520522]\n"
     ]
    },
    {
     "name": "stderr",
     "output_type": "stream",
     "text": [
      " 33%|███▎      | 2810/8500 [01:17<02:31, 37.61it/s]"
     ]
    },
    {
     "name": "stdout",
     "output_type": "stream",
     "text": [
      "Epoch 32 Batch 84/85 [D loss: 0.039660] [G loss: 1.810447]\n"
     ]
    },
    {
     "name": "stderr",
     "output_type": "stream",
     "text": [
      " 34%|███▍      | 2898/8500 [01:19<02:29, 37.42it/s]"
     ]
    },
    {
     "name": "stdout",
     "output_type": "stream",
     "text": [
      "Epoch 33 Batch 84/85 [D loss: 0.040186] [G loss: 2.833332]\n"
     ]
    },
    {
     "name": "stderr",
     "output_type": "stream",
     "text": [
      " 35%|███▌      | 2982/8500 [01:21<02:27, 37.51it/s]"
     ]
    },
    {
     "name": "stdout",
     "output_type": "stream",
     "text": [
      "Epoch 34 Batch 84/85 [D loss: 0.057660] [G loss: 1.816047]\n"
     ]
    },
    {
     "name": "stderr",
     "output_type": "stream",
     "text": [
      " 36%|███▌      | 3066/8500 [01:24<02:26, 37.09it/s]"
     ]
    },
    {
     "name": "stdout",
     "output_type": "stream",
     "text": [
      "Epoch 35 Batch 84/85 [D loss: 0.044775] [G loss: 2.351741]\n"
     ]
    },
    {
     "name": "stderr",
     "output_type": "stream",
     "text": [
      " 37%|███▋      | 3150/8500 [01:26<02:22, 37.58it/s]"
     ]
    },
    {
     "name": "stdout",
     "output_type": "stream",
     "text": [
      "Epoch 36 Batch 84/85 [D loss: 0.052757] [G loss: 1.961373]\n"
     ]
    },
    {
     "name": "stderr",
     "output_type": "stream",
     "text": [
      " 38%|███▊      | 3238/8500 [01:28<02:20, 37.47it/s]"
     ]
    },
    {
     "name": "stdout",
     "output_type": "stream",
     "text": [
      "Epoch 37 Batch 84/85 [D loss: 0.067252] [G loss: 3.273689]\n"
     ]
    },
    {
     "name": "stderr",
     "output_type": "stream",
     "text": [
      " 39%|███▉      | 3322/8500 [01:31<02:17, 37.61it/s]"
     ]
    },
    {
     "name": "stdout",
     "output_type": "stream",
     "text": [
      "Epoch 38 Batch 84/85 [D loss: 0.062489] [G loss: 2.362960]\n"
     ]
    },
    {
     "name": "stderr",
     "output_type": "stream",
     "text": [
      " 40%|████      | 3406/8500 [01:33<02:15, 37.52it/s]"
     ]
    },
    {
     "name": "stdout",
     "output_type": "stream",
     "text": [
      "Epoch 39 Batch 84/85 [D loss: 0.038726] [G loss: 2.510058]\n"
     ]
    },
    {
     "name": "stderr",
     "output_type": "stream",
     "text": [
      " 41%|████      | 3490/8500 [01:35<02:13, 37.63it/s]"
     ]
    },
    {
     "name": "stdout",
     "output_type": "stream",
     "text": [
      "Epoch 40 Batch 84/85 [D loss: 0.042136] [G loss: 2.345921]\n"
     ]
    },
    {
     "name": "stderr",
     "output_type": "stream",
     "text": [
      " 42%|████▏     | 3578/8500 [01:37<02:10, 37.65it/s]"
     ]
    },
    {
     "name": "stdout",
     "output_type": "stream",
     "text": [
      "Epoch 41 Batch 84/85 [D loss: 0.076666] [G loss: 3.983410]\n"
     ]
    },
    {
     "name": "stderr",
     "output_type": "stream",
     "text": [
      " 43%|████▎     | 3662/8500 [01:40<02:16, 35.51it/s]"
     ]
    },
    {
     "name": "stdout",
     "output_type": "stream",
     "text": [
      "Epoch 42 Batch 84/85 [D loss: 0.048773] [G loss: 1.705835]\n"
     ]
    },
    {
     "name": "stderr",
     "output_type": "stream",
     "text": [
      " 44%|████▍     | 3746/8500 [01:42<02:06, 37.50it/s]"
     ]
    },
    {
     "name": "stdout",
     "output_type": "stream",
     "text": [
      "Epoch 43 Batch 84/85 [D loss: 0.055808] [G loss: 3.082373]\n"
     ]
    },
    {
     "name": "stderr",
     "output_type": "stream",
     "text": [
      " 45%|████▌     | 3830/8500 [01:44<02:05, 37.30it/s]"
     ]
    },
    {
     "name": "stdout",
     "output_type": "stream",
     "text": [
      "Epoch 44 Batch 84/85 [D loss: 0.053760] [G loss: 3.547221]\n"
     ]
    },
    {
     "name": "stderr",
     "output_type": "stream",
     "text": [
      " 46%|████▌     | 3918/8500 [01:47<02:02, 37.26it/s]"
     ]
    },
    {
     "name": "stdout",
     "output_type": "stream",
     "text": [
      "Epoch 45 Batch 84/85 [D loss: 0.041642] [G loss: 3.600898]\n"
     ]
    },
    {
     "name": "stderr",
     "output_type": "stream",
     "text": [
      " 47%|████▋     | 4002/8500 [01:49<01:59, 37.64it/s]"
     ]
    },
    {
     "name": "stdout",
     "output_type": "stream",
     "text": [
      "Epoch 46 Batch 84/85 [D loss: 0.059438] [G loss: 2.370914]\n"
     ]
    },
    {
     "name": "stderr",
     "output_type": "stream",
     "text": [
      " 48%|████▊     | 4086/8500 [01:51<01:57, 37.57it/s]"
     ]
    },
    {
     "name": "stdout",
     "output_type": "stream",
     "text": [
      "Epoch 47 Batch 84/85 [D loss: 0.034157] [G loss: 3.223439]\n"
     ]
    },
    {
     "name": "stderr",
     "output_type": "stream",
     "text": [
      " 49%|████▉     | 4170/8500 [01:53<01:55, 37.55it/s]"
     ]
    },
    {
     "name": "stdout",
     "output_type": "stream",
     "text": [
      "Epoch 48 Batch 84/85 [D loss: 0.049726] [G loss: 3.314681]\n"
     ]
    },
    {
     "name": "stderr",
     "output_type": "stream",
     "text": [
      " 50%|█████     | 4258/8500 [01:56<01:52, 37.57it/s]"
     ]
    },
    {
     "name": "stdout",
     "output_type": "stream",
     "text": [
      "Epoch 49 Batch 84/85 [D loss: 0.044188] [G loss: 2.144079]\n"
     ]
    },
    {
     "name": "stderr",
     "output_type": "stream",
     "text": [
      " 51%|█████     | 4342/8500 [01:58<01:57, 35.49it/s]"
     ]
    },
    {
     "name": "stdout",
     "output_type": "stream",
     "text": [
      "Epoch 50 Batch 84/85 [D loss: 0.052603] [G loss: 2.486185]\n"
     ]
    },
    {
     "name": "stderr",
     "output_type": "stream",
     "text": [
      " 52%|█████▏    | 4426/8500 [02:00<01:47, 37.74it/s]"
     ]
    },
    {
     "name": "stdout",
     "output_type": "stream",
     "text": [
      "Epoch 51 Batch 84/85 [D loss: 0.021451] [G loss: 3.110190]\n"
     ]
    },
    {
     "name": "stderr",
     "output_type": "stream",
     "text": [
      " 53%|█████▎    | 4510/8500 [02:03<01:45, 37.88it/s]"
     ]
    },
    {
     "name": "stdout",
     "output_type": "stream",
     "text": [
      "Epoch 52 Batch 84/85 [D loss: 0.042619] [G loss: 3.694579]\n"
     ]
    },
    {
     "name": "stderr",
     "output_type": "stream",
     "text": [
      " 54%|█████▍    | 4598/8500 [02:05<01:44, 37.45it/s]"
     ]
    },
    {
     "name": "stdout",
     "output_type": "stream",
     "text": [
      "Epoch 53 Batch 84/85 [D loss: 0.092808] [G loss: 3.146307]\n"
     ]
    },
    {
     "name": "stderr",
     "output_type": "stream",
     "text": [
      " 55%|█████▌    | 4682/8500 [02:07<01:42, 37.35it/s]"
     ]
    },
    {
     "name": "stdout",
     "output_type": "stream",
     "text": [
      "Epoch 54 Batch 84/85 [D loss: 0.043033] [G loss: 3.512417]\n"
     ]
    },
    {
     "name": "stderr",
     "output_type": "stream",
     "text": [
      " 56%|█████▌    | 4766/8500 [02:09<01:43, 36.10it/s]"
     ]
    },
    {
     "name": "stdout",
     "output_type": "stream",
     "text": [
      "Epoch 55 Batch 84/85 [D loss: 0.060968] [G loss: 2.886999]\n"
     ]
    },
    {
     "name": "stderr",
     "output_type": "stream",
     "text": [
      " 57%|█████▋    | 4850/8500 [02:12<01:37, 37.43it/s]"
     ]
    },
    {
     "name": "stdout",
     "output_type": "stream",
     "text": [
      "Epoch 56 Batch 84/85 [D loss: 0.077308] [G loss: 2.007581]\n"
     ]
    },
    {
     "name": "stderr",
     "output_type": "stream",
     "text": [
      " 58%|█████▊    | 4938/8500 [02:14<01:34, 37.70it/s]"
     ]
    },
    {
     "name": "stdout",
     "output_type": "stream",
     "text": [
      "Epoch 57 Batch 84/85 [D loss: 0.047233] [G loss: 4.425227]\n"
     ]
    },
    {
     "name": "stderr",
     "output_type": "stream",
     "text": [
      " 59%|█████▉    | 5022/8500 [02:16<01:34, 36.74it/s]"
     ]
    },
    {
     "name": "stdout",
     "output_type": "stream",
     "text": [
      "Epoch 58 Batch 84/85 [D loss: 0.051576] [G loss: 5.003593]\n"
     ]
    },
    {
     "name": "stderr",
     "output_type": "stream",
     "text": [
      " 60%|██████    | 5106/8500 [02:19<01:30, 37.65it/s]"
     ]
    },
    {
     "name": "stdout",
     "output_type": "stream",
     "text": [
      "Epoch 59 Batch 84/85 [D loss: 0.060952] [G loss: 3.719893]\n"
     ]
    },
    {
     "name": "stderr",
     "output_type": "stream",
     "text": [
      " 61%|██████    | 5190/8500 [02:21<01:28, 37.52it/s]"
     ]
    },
    {
     "name": "stdout",
     "output_type": "stream",
     "text": [
      "Epoch 60 Batch 84/85 [D loss: 0.117256] [G loss: 3.777093]\n"
     ]
    },
    {
     "name": "stderr",
     "output_type": "stream",
     "text": [
      " 62%|██████▏   | 5278/8500 [02:23<01:25, 37.54it/s]"
     ]
    },
    {
     "name": "stdout",
     "output_type": "stream",
     "text": [
      "Epoch 61 Batch 84/85 [D loss: 0.060562] [G loss: 3.124270]\n"
     ]
    },
    {
     "name": "stderr",
     "output_type": "stream",
     "text": [
      " 63%|██████▎   | 5362/8500 [02:26<01:23, 37.49it/s]"
     ]
    },
    {
     "name": "stdout",
     "output_type": "stream",
     "text": [
      "Epoch 62 Batch 84/85 [D loss: 0.034051] [G loss: 3.452734]\n"
     ]
    },
    {
     "name": "stderr",
     "output_type": "stream",
     "text": [
      " 64%|██████▍   | 5446/8500 [02:28<01:22, 36.82it/s]"
     ]
    },
    {
     "name": "stdout",
     "output_type": "stream",
     "text": [
      "Epoch 63 Batch 84/85 [D loss: 0.032458] [G loss: 3.729489]\n"
     ]
    },
    {
     "name": "stderr",
     "output_type": "stream",
     "text": [
      " 65%|██████▌   | 5530/8500 [02:30<01:19, 37.53it/s]"
     ]
    },
    {
     "name": "stdout",
     "output_type": "stream",
     "text": [
      "Epoch 64 Batch 84/85 [D loss: 0.025119] [G loss: 3.184566]\n"
     ]
    },
    {
     "name": "stderr",
     "output_type": "stream",
     "text": [
      " 66%|██████▌   | 5618/8500 [02:32<01:16, 37.55it/s]"
     ]
    },
    {
     "name": "stdout",
     "output_type": "stream",
     "text": [
      "Epoch 65 Batch 84/85 [D loss: 0.039518] [G loss: 4.834535]\n"
     ]
    },
    {
     "name": "stderr",
     "output_type": "stream",
     "text": [
      " 67%|██████▋   | 5702/8500 [02:35<01:14, 37.65it/s]"
     ]
    },
    {
     "name": "stdout",
     "output_type": "stream",
     "text": [
      "Epoch 66 Batch 84/85 [D loss: 0.018184] [G loss: 4.008453]\n"
     ]
    },
    {
     "name": "stderr",
     "output_type": "stream",
     "text": [
      " 68%|██████▊   | 5786/8500 [02:37<01:12, 37.52it/s]"
     ]
    },
    {
     "name": "stdout",
     "output_type": "stream",
     "text": [
      "Epoch 67 Batch 84/85 [D loss: 0.076157] [G loss: 2.894700]\n"
     ]
    },
    {
     "name": "stderr",
     "output_type": "stream",
     "text": [
      " 69%|██████▉   | 5870/8500 [02:39<01:10, 37.46it/s]"
     ]
    },
    {
     "name": "stdout",
     "output_type": "stream",
     "text": [
      "Epoch 68 Batch 84/85 [D loss: 0.053664] [G loss: 3.330724]\n"
     ]
    },
    {
     "name": "stderr",
     "output_type": "stream",
     "text": [
      " 70%|███████   | 5958/8500 [02:42<01:07, 37.66it/s]"
     ]
    },
    {
     "name": "stdout",
     "output_type": "stream",
     "text": [
      "Epoch 69 Batch 84/85 [D loss: 0.101512] [G loss: 3.491044]\n"
     ]
    },
    {
     "name": "stderr",
     "output_type": "stream",
     "text": [
      " 71%|███████   | 6042/8500 [02:44<01:05, 37.71it/s]"
     ]
    },
    {
     "name": "stdout",
     "output_type": "stream",
     "text": [
      "Epoch 70 Batch 84/85 [D loss: 0.038132] [G loss: 3.681525]\n"
     ]
    },
    {
     "name": "stderr",
     "output_type": "stream",
     "text": [
      " 72%|███████▏  | 6126/8500 [02:46<01:03, 37.62it/s]"
     ]
    },
    {
     "name": "stdout",
     "output_type": "stream",
     "text": [
      "Epoch 71 Batch 84/85 [D loss: 0.021215] [G loss: 2.780161]\n"
     ]
    },
    {
     "name": "stderr",
     "output_type": "stream",
     "text": [
      " 73%|███████▎  | 6210/8500 [02:48<01:01, 37.43it/s]"
     ]
    },
    {
     "name": "stdout",
     "output_type": "stream",
     "text": [
      "Epoch 72 Batch 84/85 [D loss: 0.059743] [G loss: 4.755614]\n"
     ]
    },
    {
     "name": "stderr",
     "output_type": "stream",
     "text": [
      " 74%|███████▍  | 6294/8500 [02:51<00:58, 37.59it/s]"
     ]
    },
    {
     "name": "stdout",
     "output_type": "stream",
     "text": [
      "Epoch 73 Batch 84/85 [D loss: 0.045259] [G loss: 2.114249]\n"
     ]
    },
    {
     "name": "stderr",
     "output_type": "stream",
     "text": [
      " 75%|███████▌  | 6382/8500 [02:53<00:56, 37.34it/s]"
     ]
    },
    {
     "name": "stdout",
     "output_type": "stream",
     "text": [
      "Epoch 74 Batch 84/85 [D loss: 0.021493] [G loss: 4.407150]\n"
     ]
    },
    {
     "name": "stderr",
     "output_type": "stream",
     "text": [
      " 76%|███████▌  | 6466/8500 [02:55<00:54, 37.48it/s]"
     ]
    },
    {
     "name": "stdout",
     "output_type": "stream",
     "text": [
      "Epoch 75 Batch 84/85 [D loss: 0.020064] [G loss: 4.764878]\n"
     ]
    },
    {
     "name": "stderr",
     "output_type": "stream",
     "text": [
      " 77%|███████▋  | 6550/8500 [02:58<00:52, 37.40it/s]"
     ]
    },
    {
     "name": "stdout",
     "output_type": "stream",
     "text": [
      "Epoch 76 Batch 84/85 [D loss: 0.049751] [G loss: 5.834278]\n"
     ]
    },
    {
     "name": "stderr",
     "output_type": "stream",
     "text": [
      " 78%|███████▊  | 6638/8500 [03:00<00:49, 37.66it/s]"
     ]
    },
    {
     "name": "stdout",
     "output_type": "stream",
     "text": [
      "Epoch 77 Batch 84/85 [D loss: 0.037950] [G loss: 3.993013]\n"
     ]
    },
    {
     "name": "stderr",
     "output_type": "stream",
     "text": [
      " 79%|███████▉  | 6722/8500 [03:02<00:47, 37.51it/s]"
     ]
    },
    {
     "name": "stdout",
     "output_type": "stream",
     "text": [
      "Epoch 78 Batch 84/85 [D loss: 0.017333] [G loss: 3.132737]\n"
     ]
    },
    {
     "name": "stderr",
     "output_type": "stream",
     "text": [
      " 80%|████████  | 6806/8500 [03:04<00:45, 37.25it/s]"
     ]
    },
    {
     "name": "stdout",
     "output_type": "stream",
     "text": [
      "Epoch 79 Batch 84/85 [D loss: 0.075032] [G loss: 2.732957]\n"
     ]
    },
    {
     "name": "stderr",
     "output_type": "stream",
     "text": [
      " 81%|████████  | 6890/8500 [03:07<00:42, 37.58it/s]"
     ]
    },
    {
     "name": "stdout",
     "output_type": "stream",
     "text": [
      "Epoch 80 Batch 84/85 [D loss: 0.048679] [G loss: 3.668554]\n"
     ]
    },
    {
     "name": "stderr",
     "output_type": "stream",
     "text": [
      " 82%|████████▏ | 6978/8500 [03:09<00:41, 37.08it/s]"
     ]
    },
    {
     "name": "stdout",
     "output_type": "stream",
     "text": [
      "Epoch 81 Batch 84/85 [D loss: 0.010079] [G loss: 4.155263]\n"
     ]
    },
    {
     "name": "stderr",
     "output_type": "stream",
     "text": [
      " 83%|████████▎ | 7062/8500 [03:11<00:38, 37.20it/s]"
     ]
    },
    {
     "name": "stdout",
     "output_type": "stream",
     "text": [
      "Epoch 82 Batch 84/85 [D loss: 0.066391] [G loss: 2.747804]\n"
     ]
    },
    {
     "name": "stderr",
     "output_type": "stream",
     "text": [
      " 84%|████████▍ | 7146/8500 [03:14<00:36, 37.40it/s]"
     ]
    },
    {
     "name": "stdout",
     "output_type": "stream",
     "text": [
      "Epoch 83 Batch 84/85 [D loss: 0.041059] [G loss: 3.386553]\n"
     ]
    },
    {
     "name": "stderr",
     "output_type": "stream",
     "text": [
      " 85%|████████▌ | 7230/8500 [03:16<00:34, 37.24it/s]"
     ]
    },
    {
     "name": "stdout",
     "output_type": "stream",
     "text": [
      "Epoch 84 Batch 84/85 [D loss: 0.043437] [G loss: 3.952444]\n"
     ]
    },
    {
     "name": "stderr",
     "output_type": "stream",
     "text": [
      " 86%|████████▌ | 7318/8500 [03:18<00:31, 37.31it/s]"
     ]
    },
    {
     "name": "stdout",
     "output_type": "stream",
     "text": [
      "Epoch 85 Batch 84/85 [D loss: 0.026346] [G loss: 4.604275]\n"
     ]
    },
    {
     "name": "stderr",
     "output_type": "stream",
     "text": [
      " 87%|████████▋ | 7402/8500 [03:21<00:29, 36.61it/s]"
     ]
    },
    {
     "name": "stdout",
     "output_type": "stream",
     "text": [
      "Epoch 86 Batch 84/85 [D loss: 0.032266] [G loss: 3.215007]\n"
     ]
    },
    {
     "name": "stderr",
     "output_type": "stream",
     "text": [
      " 88%|████████▊ | 7486/8500 [03:23<00:27, 36.83it/s]"
     ]
    },
    {
     "name": "stdout",
     "output_type": "stream",
     "text": [
      "Epoch 87 Batch 84/85 [D loss: 0.064296] [G loss: 2.543089]\n"
     ]
    },
    {
     "name": "stderr",
     "output_type": "stream",
     "text": [
      " 89%|████████▉ | 7570/8500 [03:25<00:25, 37.04it/s]"
     ]
    },
    {
     "name": "stdout",
     "output_type": "stream",
     "text": [
      "Epoch 88 Batch 84/85 [D loss: 0.031210] [G loss: 4.394328]\n"
     ]
    },
    {
     "name": "stderr",
     "output_type": "stream",
     "text": [
      " 90%|█████████ | 7658/8500 [03:28<00:22, 37.07it/s]"
     ]
    },
    {
     "name": "stdout",
     "output_type": "stream",
     "text": [
      "Epoch 89 Batch 84/85 [D loss: 0.015138] [G loss: 3.132440]\n"
     ]
    },
    {
     "name": "stderr",
     "output_type": "stream",
     "text": [
      " 91%|█████████ | 7742/8500 [03:30<00:20, 37.05it/s]"
     ]
    },
    {
     "name": "stdout",
     "output_type": "stream",
     "text": [
      "Epoch 90 Batch 84/85 [D loss: 0.033912] [G loss: 4.060833]\n"
     ]
    },
    {
     "name": "stderr",
     "output_type": "stream",
     "text": [
      " 92%|█████████▏| 7826/8500 [03:32<00:18, 37.13it/s]"
     ]
    },
    {
     "name": "stdout",
     "output_type": "stream",
     "text": [
      "Epoch 91 Batch 84/85 [D loss: 0.102520] [G loss: 4.979374]\n"
     ]
    },
    {
     "name": "stderr",
     "output_type": "stream",
     "text": [
      " 93%|█████████▎| 7910/8500 [03:34<00:15, 36.99it/s]"
     ]
    },
    {
     "name": "stdout",
     "output_type": "stream",
     "text": [
      "Epoch 92 Batch 84/85 [D loss: 0.116647] [G loss: 4.464880]\n"
     ]
    },
    {
     "name": "stderr",
     "output_type": "stream",
     "text": [
      " 94%|█████████▍| 7998/8500 [03:37<00:13, 37.19it/s]"
     ]
    },
    {
     "name": "stdout",
     "output_type": "stream",
     "text": [
      "Epoch 93 Batch 84/85 [D loss: 0.043992] [G loss: 3.087238]\n"
     ]
    },
    {
     "name": "stderr",
     "output_type": "stream",
     "text": [
      " 95%|█████████▌| 8082/8500 [03:39<00:11, 36.67it/s]"
     ]
    },
    {
     "name": "stdout",
     "output_type": "stream",
     "text": [
      "Epoch 94 Batch 84/85 [D loss: 0.015740] [G loss: 3.865746]\n"
     ]
    },
    {
     "name": "stderr",
     "output_type": "stream",
     "text": [
      " 96%|█████████▌| 8166/8500 [03:41<00:09, 36.77it/s]"
     ]
    },
    {
     "name": "stdout",
     "output_type": "stream",
     "text": [
      "Epoch 95 Batch 84/85 [D loss: 0.035118] [G loss: 2.907734]\n"
     ]
    },
    {
     "name": "stderr",
     "output_type": "stream",
     "text": [
      " 97%|█████████▋| 8250/8500 [03:44<00:06, 36.92it/s]"
     ]
    },
    {
     "name": "stdout",
     "output_type": "stream",
     "text": [
      "Epoch 96 Batch 84/85 [D loss: 0.045855] [G loss: 4.226213]\n"
     ]
    },
    {
     "name": "stderr",
     "output_type": "stream",
     "text": [
      " 98%|█████████▊| 8338/8500 [03:46<00:04, 36.86it/s]"
     ]
    },
    {
     "name": "stdout",
     "output_type": "stream",
     "text": [
      "Epoch 97 Batch 84/85 [D loss: 0.021546] [G loss: 4.874538]\n"
     ]
    },
    {
     "name": "stderr",
     "output_type": "stream",
     "text": [
      " 99%|█████████▉| 8422/8500 [03:48<00:02, 37.00it/s]"
     ]
    },
    {
     "name": "stdout",
     "output_type": "stream",
     "text": [
      "Epoch 98 Batch 84/85 [D loss: 0.011725] [G loss: 4.322096]\n"
     ]
    },
    {
     "name": "stderr",
     "output_type": "stream",
     "text": [
      "100%|█████████▉| 8498/8500 [03:51<00:00, 35.65it/s]"
     ]
    },
    {
     "name": "stdout",
     "output_type": "stream",
     "text": [
      "Epoch 99 Batch 84/85 [D loss: 0.009879] [G loss: 4.627438]\n"
     ]
    }
   ],
   "source": [
    "batch_count = X_train.shape[0] // batch_size\n",
    "pbar = tqdm(total=epochs*batch_count)\n",
    "gan_loss = []\n",
    "discriminator_loss = []\n",
    "\n",
    "generator = get_generator(adam)\n",
    "discriminator = get_discriminator(adam)\n",
    "gan = get_gan_network(\n",
    "    discriminator=discriminator, \n",
    "    generator=generator, \n",
    "    optimizer=adam,\n",
    "    input_dim=NUM_COL\n",
    ")\n",
    "\n",
    "for epoch in range(epochs):\n",
    "    for index in range(batch_count):\n",
    "        pbar.update(1)\n",
    "\n",
    "        noise = np.random.normal(0, 1, size=[batch_size, NUM_COL])\n",
    "        generated_images = generator.predict_on_batch(noise)\n",
    "\n",
    "        image_batch = X_train[index * batch_size: (index + 1) * batch_size]\n",
    "\n",
    "        X = np.vstack((generated_images, image_batch))\n",
    "        y_dis = np.ones(2 * batch_size)\n",
    "        y_dis[:batch_size] = 0\n",
    "\n",
    "        discriminator.trainable = True\n",
    "        d_loss = discriminator.train_on_batch(X, y_dis)\n",
    "\n",
    "        noise = np.random.uniform(0, 1, size=[batch_size, NUM_COL])\n",
    "        y_gen = np.ones(batch_size)\n",
    "        discriminator.trainable = False\n",
    "        g_loss = gan.train_on_batch(noise, y_gen)\n",
    "\n",
    "        discriminator_loss.append(d_loss)\n",
    "        gan_loss.append(g_loss)\n",
    "\n",
    "    print(\"Epoch %d Batch %d/%d [D loss: %f] [G loss: %f]\" % (epoch, index, batch_count, d_loss, g_loss))"
   ]
  },
  {
   "cell_type": "code",
   "execution_count": 18,
   "metadata": {},
   "outputs": [
    {
     "data": {
      "text/plain": [
       "<matplotlib.legend.Legend at 0x7f9e5f49cd30>"
      ]
     },
     "execution_count": 18,
     "metadata": {},
     "output_type": "execute_result"
    },
    {
     "data": {
      "image/png": "[encoded data removed]",
      "text/plain": [
       "<Figure size 640x480 with 1 Axes>"
      ]
     },
     "metadata": {},
     "output_type": "display_data"
    }
   ],
   "source": [
    "fig, ax = plt.subplots()\n",
    "plt.plot(discriminator_loss, label='Discriminator')\n",
    "plt.plot(gan_loss, label='Generator')\n",
    "plt.title('Training Losses')\n",
    "plt.legend()"
   ]
  },
  {
   "cell_type": "code",
   "execution_count": 19,
   "metadata": {},
   "outputs": [],
   "source": [
    "# Predictions on the test set\n",
    "\n",
    "nr_batches_test = np.ceil(X_test.shape[0] // batch_size).astype(np.int32)\n",
    "\n",
    "results =[]\n",
    "\n",
    "for t in range(nr_batches_test +1):    \n",
    "        ran_from = t * batch_size\n",
    "        ran_to = (t + 1) * batch_size\n",
    "        image_batch = X_test[ran_from:ran_to]             \n",
    "        tmp_rslt = discriminator.predict(x=image_batch,batch_size=128,verbose=0)        \n",
    "        results = np.append(results, tmp_rslt)   "
   ]
  },
  {
   "cell_type": "code",
   "execution_count": 20,
   "metadata": {},
   "outputs": [
    {
     "data": {
      "text/plain": [
       "array([ 1., nan,  1., ...,  1., nan,  1.])"
      ]
     },
     "execution_count": 20,
     "metadata": {},
     "output_type": "execute_result"
    }
   ],
   "source": [
    "results"
   ]
  },
  {
   "cell_type": "code",
   "execution_count": 21,
   "metadata": {},
   "outputs": [],
   "source": [
    "y2 = y_test.to_numpy()"
   ]
  },
  {
   "cell_type": "code",
   "execution_count": 22,
   "metadata": {},
   "outputs": [
    {
     "name": "stdout",
     "output_type": "stream",
     "text": [
      "Mean score for Normal data : nan\n",
      "Mean score for Fall data : nan\n"
     ]
    }
   ],
   "source": [
    "pd.options.display.float_format = '{:20,.7f}'.format\n",
    "results_df = pd.concat([pd.DataFrame(results),pd.DataFrame(y2)], axis=1)\n",
    "results_df.columns = ['results','y_test']\n",
    "print ('Mean score for Normal data :', results_df.loc[results_df['y_test'] == 1, 'results'].mean() )\n",
    "print ('Mean score for Fall data :', results_df.loc[results_df['y_test'] == 0, 'results'].mean())"
   ]
  },
  {
   "cell_type": "code",
   "execution_count": 23,
   "metadata": {},
   "outputs": [
    {
     "ename": "NameError",
     "evalue": "name 'precision_recall_fscore_support' is not defined",
     "output_type": "error",
     "traceback": [
      "\u001b[0;31m---------------------------------------------------------------------------\u001b[0m",
      "\u001b[0;31mNameError\u001b[0m                                 Traceback (most recent call last)",
      "Cell \u001b[0;32mIn[23], line 11\u001b[0m\n\u001b[1;32m      9\u001b[0m y_pred[inds] \u001b[39m=\u001b[39m \u001b[39m0\u001b[39m\n\u001b[1;32m     10\u001b[0m y_pred[inds_comp] \u001b[39m=\u001b[39m \u001b[39m1\u001b[39m\n\u001b[0;32m---> 11\u001b[0m precision, recall, f1,_ \u001b[39m=\u001b[39m precision_recall_fscore_support(y_test,y_pred,average\u001b[39m=\u001b[39m\u001b[39m'\u001b[39m\u001b[39mbinary\u001b[39m\u001b[39m'\u001b[39m)\n\u001b[1;32m     12\u001b[0m \u001b[39mprint\u001b[39m (\u001b[39m'\u001b[39m\u001b[39mAccuracy Score :\u001b[39m\u001b[39m'\u001b[39m,accuracy_score(y_test, y_pred) )\n\u001b[1;32m     13\u001b[0m \u001b[39mprint\u001b[39m (\u001b[39m'\u001b[39m\u001b[39mPrecision :\u001b[39m\u001b[39m'\u001b[39m,precision )\n",
      "\u001b[0;31mNameError\u001b[0m: name 'precision_recall_fscore_support' is not defined"
     ]
    },
    {
     "name": "stderr",
     "output_type": "stream",
     "text": [
      "100%|██████████| 8500/8500 [04:10<00:00, 35.65it/s]"
     ]
    }
   ],
   "source": [
    "#Obtaining the lowest 1% score\n",
    "per = np.percentile(results,1)\n",
    "y_pred = results.copy()\n",
    "y_pred = np.array(y_pred)\n",
    "\n",
    "#Thresholding based on the score\n",
    "inds = (y_pred > per)\n",
    "inds_comp = (y_pred <= per)\n",
    "y_pred[inds] = 0\n",
    "y_pred[inds_comp] = 1\n",
    "precision, recall, f1,_ = precision_recall_fscore_support(y_test,y_pred,average='binary')\n",
    "print ('Accuracy Score :',accuracy_score(y_test, y_pred) )\n",
    "print ('Precision :',precision )\n",
    "print ('Recall :',recall )\n",
    "print ('F1 :',f1 )"
   ]
  },
  {
   "cell_type": "code",
   "execution_count": null,
   "metadata": {},
   "outputs": [],
   "source": [
    "cm = confusion_matrix(y_test, y_pred)\n",
    "\n",
    "print ('Confusion Matrix :')\n",
    "\n",
    "def plot_confusion_matrix(cm, title='Confusion matrix', cmap=plt.cm.Greens):\n",
    "    plt.figure(figsize=(10,10),)\n",
    "\n",
    "    plt.imshow(cm, interpolation='nearest', cmap=cmap)\n",
    "    plt.title(title)\n",
    "    plt.colorbar()\n",
    "    plt.tight_layout()\n",
    "\n",
    "    width, height = cm.shape\n",
    "\n",
    "    for x in range(width):\n",
    "        for y in range(height):\n",
    "            plt.annotate(str(cm[x][y]), xy=(y, x), \n",
    "                        horizontalalignment='center',\n",
    "                        verticalalignment='center')\n",
    "    plt.ylabel('True label')\n",
    "    plt.xlabel('Predicted label')\n",
    "\n",
    "\n",
    "plot_confusion_matrix(cm)"
   ]
  },
  {
   "cell_type": "code",
   "execution_count": null,
   "metadata": {},
   "outputs": [],
   "source": [
    "fpr_keras, tpr_keras, thresholds_keras = roc_curve(y_test, y_pred)\n",
    "auc_keras = auc(fpr_keras, tpr_keras)\n",
    "plt.figure(1)\n",
    "plt.plot([0, 1], [0, 1], 'k--')\n",
    "plt.plot(fpr_keras, tpr_keras, label='Keras (area = {:.2f})'.format(auc_keras))\n",
    "\n",
    "plt.xlabel('False positive rate')\n",
    "plt.ylabel('True positive rate')\n",
    "plt.title('ROC curve')\n",
    "plt.legend(loc='best')\n",
    "plt.show()"
   ]
  }
 ],
 "metadata": {
  "kernelspec": {
   "display_name": "base",
   "language": "python",
   "name": "python3"
  },
  "language_info": {
   "codemirror_mode": {
    "name": "ipython",
    "version": 3
   },
   "file_extension": ".py",
   "mimetype": "text/x-python",
   "name": "python",
   "nbconvert_exporter": "python",
   "pygments_lexer": "ipython3",
   "version": "3.9.7"
  },
  "orig_nbformat": 4
 },
 "nbformat": 4,
 "nbformat_minor": 2
}
