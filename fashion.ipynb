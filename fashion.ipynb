{
 "cells": [
  {
   "cell_type": "code",
   "execution_count": 1,
   "metadata": {},
   "outputs": [],
   "source": [
    "import tensorflow as tf\n",
    "tf.keras.utils.set_random_seed(42)\n",
    "tf.config.experimental.enable_op_determinism()\n",
    "import matplotlib.pyplot as plt\n",
    "import pandas as pd\n",
    "import numpy as np\n",
    "from sklearn.metrics import confusion_matrix\n",
    "import seaborn as sns"
   ]
  },
  {
   "cell_type": "code",
   "execution_count": 2,
   "metadata": {},
   "outputs": [
    {
     "name": "stdout",
     "output_type": "stream",
     "text": [
      "(60000, 784)\n"
     ]
    },
    {
     "data": {
      "image/png": "[encoded data removed]",
      "text/plain": [
       "<Figure size 640x480 with 1 Axes>"
      ]
     },
     "metadata": {},
     "output_type": "display_data"
    }
   ],
   "source": [
    "from tensorflow import keras\n",
    "from sklearn.model_selection import train_test_split\n",
    "\n",
    "(X_train, y_train), (X_test, y_test) = keras.datasets.fashion_mnist.load_data()\n",
    "\n",
    "plt.imshow(X_train[5], cmap=plt.cm.gray_r, interpolation=\"nearest\")\n",
    "\n",
    "X_train = X_train.reshape(-1, 784) / 255.0\n",
    "X_test = X_test.reshape(-1, 784) / 255.0\n",
    "\n",
    "y_train = pd.get_dummies(y_train)\n",
    "y_test = pd.get_dummies(y_test)\n",
    "\n",
    "print(X_train.shape)"
   ]
  },
  {
   "cell_type": "code",
   "execution_count": 3,
   "metadata": {},
   "outputs": [
    {
     "name": "stdout",
     "output_type": "stream",
     "text": [
      "X train : (60000, 784)\n",
      "y train : (60000, 10)\n",
      "X test : (10000, 784)\n",
      "y test : (10000, 10)\n"
     ]
    }
   ],
   "source": [
    "print(\"X train :\", X_train.shape)\n",
    "print(\"y train :\", y_train.shape)\n",
    "print(\"X test :\", X_test.shape)\n",
    "print(\"y test :\", y_test.shape)"
   ]
  },
  {
   "cell_type": "code",
   "execution_count": 4,
   "metadata": {},
   "outputs": [],
   "source": [
    "from tensorflow.keras.layers import Dense\n",
    "from tensorflow.keras.models import Sequential\n",
    "from keras.callbacks import EarlyStopping"
   ]
  },
  {
   "cell_type": "code",
   "execution_count": 5,
   "metadata": {},
   "outputs": [
    {
     "name": "stdout",
     "output_type": "stream",
     "text": [
      "Model: \"sequential\"\n",
      "_________________________________________________________________\n",
      " Layer (type)                Output Shape              Param #   \n",
      "=================================================================\n",
      " dense (Dense)               (None, 64)                50240     \n",
      "                                                                 \n",
      " dense_1 (Dense)             (None, 32)                2080      \n",
      "                                                                 \n",
      " dense_2 (Dense)             (None, 16)                528       \n",
      "                                                                 \n",
      " dense_3 (Dense)             (None, 10)                170       \n",
      "                                                                 \n",
      "=================================================================\n",
      "Total params: 53,018\n",
      "Trainable params: 53,018\n",
      "Non-trainable params: 0\n",
      "_________________________________________________________________\n"
     ]
    }
   ],
   "source": [
    "model = Sequential([\n",
    "    Dense(64, input_shape=(784, ), activation='relu'),\n",
    "    Dense(32, activation='relu'),\n",
    "    Dense(16, activation='relu'),\n",
    "    Dense(10, activation='softmax')\n",
    "])\n",
    "\n",
    "model.summary()"
   ]
  },
  {
   "cell_type": "code",
   "execution_count": 6,
   "metadata": {},
   "outputs": [
    {
     "name": "stdout",
     "output_type": "stream",
     "text": [
      "Epoch 1/40\n",
      "1257/1257 [==============================] - 2s 2ms/step - loss: 0.6507 - val_loss: 0.4569\n",
      "Epoch 2/40\n",
      "1257/1257 [==============================] - 2s 1ms/step - loss: 0.4226 - val_loss: 0.3934\n",
      "Epoch 3/40\n",
      "1257/1257 [==============================] - 2s 1ms/step - loss: 0.3761 - val_loss: 0.4018\n",
      "Epoch 4/40\n",
      "1257/1257 [==============================] - 2s 1ms/step - loss: 0.3500 - val_loss: 0.3646\n",
      "Epoch 5/40\n",
      "1257/1257 [==============================] - 2s 1ms/step - loss: 0.3316 - val_loss: 0.3725\n",
      "Epoch 6/40\n",
      "1257/1257 [==============================] - 2s 1ms/step - loss: 0.3180 - val_loss: 0.3718\n",
      "Epoch 7/40\n",
      "1257/1257 [==============================] - 2s 1ms/step - loss: 0.3036 - val_loss: 0.3454\n",
      "Epoch 8/40\n",
      "1257/1257 [==============================] - 2s 1ms/step - loss: 0.2945 - val_loss: 0.3718\n",
      "Epoch 9/40\n",
      "1257/1257 [==============================] - 2s 1ms/step - loss: 0.2835 - val_loss: 0.3408\n",
      "Epoch 10/40\n",
      "1257/1257 [==============================] - 2s 1ms/step - loss: 0.2720 - val_loss: 0.3399\n",
      "Epoch 11/40\n",
      "1257/1257 [==============================] - 2s 1ms/step - loss: 0.2666 - val_loss: 0.3557\n",
      "Epoch 12/40\n",
      "1257/1257 [==============================] - 2s 1ms/step - loss: 0.2573 - val_loss: 0.3568\n",
      "Epoch 13/40\n",
      "1257/1257 [==============================] - 2s 1ms/step - loss: 0.2512 - val_loss: 0.3637\n",
      "Epoch 14/40\n",
      "1257/1257 [==============================] - 2s 1ms/step - loss: 0.2424 - val_loss: 0.3364\n",
      "Epoch 15/40\n",
      "1257/1257 [==============================] - 2s 1ms/step - loss: 0.2367 - val_loss: 0.3511\n",
      "Epoch 16/40\n",
      "1257/1257 [==============================] - 2s 1ms/step - loss: 0.2322 - val_loss: 0.3452\n",
      "Epoch 17/40\n",
      "1257/1257 [==============================] - 2s 1ms/step - loss: 0.2263 - val_loss: 0.3291\n",
      "Epoch 18/40\n",
      "1257/1257 [==============================] - 2s 1ms/step - loss: 0.2241 - val_loss: 0.3389\n",
      "Epoch 19/40\n",
      "1257/1257 [==============================] - 2s 1ms/step - loss: 0.2173 - val_loss: 0.3725\n",
      "Epoch 20/40\n",
      "1257/1257 [==============================] - 2s 1ms/step - loss: 0.2138 - val_loss: 0.3595\n",
      "Epoch 21/40\n",
      "1257/1257 [==============================] - 2s 1ms/step - loss: 0.2111 - val_loss: 0.3406\n",
      "Epoch 22/40\n",
      "1257/1257 [==============================] - 2s 1ms/step - loss: 0.2062 - val_loss: 0.3577\n",
      "Epoch 23/40\n",
      "1257/1257 [==============================] - 2s 1ms/step - loss: 0.1986 - val_loss: 0.3634\n",
      "Epoch 24/40\n",
      "1257/1257 [==============================] - 2s 1ms/step - loss: 0.1958 - val_loss: 0.3641\n",
      "Epoch 25/40\n",
      "1257/1257 [==============================] - 2s 1ms/step - loss: 0.1943 - val_loss: 0.3752\n",
      "Epoch 26/40\n",
      "1257/1257 [==============================] - 2s 1ms/step - loss: 0.1919 - val_loss: 0.3615\n",
      "Epoch 27/40\n",
      "1257/1257 [==============================] - 2s 1ms/step - loss: 0.1894 - val_loss: 0.3689\n",
      "Epoch 28/40\n",
      "1257/1257 [==============================] - 2s 1ms/step - loss: 0.1812 - val_loss: 0.4105\n",
      "Epoch 29/40\n",
      "1257/1257 [==============================] - 2s 1ms/step - loss: 0.1800 - val_loss: 0.3783\n",
      "Epoch 30/40\n",
      "1257/1257 [==============================] - 2s 1ms/step - loss: 0.1790 - val_loss: 0.3827\n",
      "Epoch 31/40\n",
      "1257/1257 [==============================] - 2s 1ms/step - loss: 0.1750 - val_loss: 0.3809\n",
      "Epoch 32/40\n",
      "1257/1257 [==============================] - 2s 1ms/step - loss: 0.1744 - val_loss: 0.3945\n",
      "Epoch 33/40\n",
      "1257/1257 [==============================] - 2s 1ms/step - loss: 0.1651 - val_loss: 0.3963\n",
      "Epoch 34/40\n",
      "1257/1257 [==============================] - 2s 1ms/step - loss: 0.1660 - val_loss: 0.4219\n",
      "Epoch 35/40\n",
      "1257/1257 [==============================] - 2s 1ms/step - loss: 0.1662 - val_loss: 0.4030\n",
      "Epoch 36/40\n",
      "1257/1257 [==============================] - 2s 1ms/step - loss: 0.1604 - val_loss: 0.4155\n",
      "Epoch 37/40\n",
      "1257/1257 [==============================] - 2s 1ms/step - loss: 0.1591 - val_loss: 0.4076\n",
      "Epoch 38/40\n",
      "1257/1257 [==============================] - 2s 1ms/step - loss: 0.1563 - val_loss: 0.4140\n",
      "Epoch 39/40\n",
      "1257/1257 [==============================] - 2s 1ms/step - loss: 0.1564 - val_loss: 0.4032\n",
      "Epoch 40/40\n",
      "1257/1257 [==============================] - 2s 1ms/step - loss: 0.1530 - val_loss: 0.4278\n"
     ]
    }
   ],
   "source": [
    "model.compile(optimizer=\"adam\", loss=\"categorical_crossentropy\")\n",
    "result = model.fit(X_train, y_train, validation_split=0.33, epochs=40, verbose=True)"
   ]
  },
  {
   "cell_type": "code",
   "execution_count": 7,
   "metadata": {},
   "outputs": [
    {
     "data": {
      "text/plain": [
       "[<matplotlib.lines.Line2D at 0x7fb7b80a56a0>]"
      ]
     },
     "execution_count": 7,
     "metadata": {},
     "output_type": "execute_result"
    },
    {
     "data": {
      "image/png": "[encoded data removed]",
      "text/plain": [
       "<Figure size 640x480 with 1 Axes>"
      ]
     },
     "metadata": {},
     "output_type": "display_data"
    }
   ],
   "source": [
    "x = np.arange(0, 40)\n",
    "y = result.history[\"loss\"]\n",
    "y2 = result.history[\"val_loss\"]\n",
    "\n",
    "plt.plot(x, y)\n",
    "plt.plot(x, y2)"
   ]
  },
  {
   "cell_type": "code",
   "execution_count": 8,
   "metadata": {},
   "outputs": [
    {
     "name": "stdout",
     "output_type": "stream",
     "text": [
      "313/313 [==============================] - 0s 546us/step\n",
      "(10000, 10) (10000, 10)\n"
     ]
    },
    {
     "ename": "ValueError",
     "evalue": "Classification metrics can't handle a mix of multilabel-indicator and continuous-multioutput targets",
     "output_type": "error",
     "traceback": [
      "\u001b[0;31m---------------------------------------------------------------------------\u001b[0m",
      "\u001b[0;31mValueError\u001b[0m                                Traceback (most recent call last)",
      "Cell \u001b[0;32mIn[8], line 3\u001b[0m\n\u001b[1;32m      1\u001b[0m pred \u001b[39m=\u001b[39m model\u001b[39m.\u001b[39mpredict(X_test)\n\u001b[1;32m      2\u001b[0m \u001b[39mprint\u001b[39m(pred\u001b[39m.\u001b[39mshape, y_test\u001b[39m.\u001b[39mshape)\n\u001b[0;32m----> 3\u001b[0m cm_pred \u001b[39m=\u001b[39m confusion_matrix(y_test, pred)\n\u001b[1;32m      5\u001b[0m sns\u001b[39m.\u001b[39mheatmap(cm_pred, cbar\u001b[39m=\u001b[39m\u001b[39mFalse\u001b[39;00m, annot\u001b[39m=\u001b[39m\u001b[39mTrue\u001b[39;00m, cmap\u001b[39m=\u001b[39m\u001b[39m\"\u001b[39m\u001b[39mGreens\u001b[39m\u001b[39m\"\u001b[39m, fmt\u001b[39m=\u001b[39m\u001b[39m\"\u001b[39m\u001b[39md\u001b[39m\u001b[39m\"\u001b[39m)\n",
      "File \u001b[0;32m~/opt/anaconda3/lib/python3.9/site-packages/sklearn/metrics/_classification.py:317\u001b[0m, in \u001b[0;36mconfusion_matrix\u001b[0;34m(y_true, y_pred, labels, sample_weight, normalize)\u001b[0m\n\u001b[1;32m    232\u001b[0m \u001b[39mdef\u001b[39;00m \u001b[39mconfusion_matrix\u001b[39m(\n\u001b[1;32m    233\u001b[0m     y_true, y_pred, \u001b[39m*\u001b[39m, labels\u001b[39m=\u001b[39m\u001b[39mNone\u001b[39;00m, sample_weight\u001b[39m=\u001b[39m\u001b[39mNone\u001b[39;00m, normalize\u001b[39m=\u001b[39m\u001b[39mNone\u001b[39;00m\n\u001b[1;32m    234\u001b[0m ):\n\u001b[1;32m    235\u001b[0m \u001b[39m    \u001b[39m\u001b[39m\"\"\"Compute confusion matrix to evaluate the accuracy of a classification.\u001b[39;00m\n\u001b[1;32m    236\u001b[0m \n\u001b[1;32m    237\u001b[0m \u001b[39m    By definition a confusion matrix :math:`C` is such that :math:`C_{i, j}`\u001b[39;00m\n\u001b[0;32m   (...)\u001b[0m\n\u001b[1;32m    315\u001b[0m \u001b[39m    (0, 2, 1, 1)\u001b[39;00m\n\u001b[1;32m    316\u001b[0m \u001b[39m    \"\"\"\u001b[39;00m\n\u001b[0;32m--> 317\u001b[0m     y_type, y_true, y_pred \u001b[39m=\u001b[39m _check_targets(y_true, y_pred)\n\u001b[1;32m    318\u001b[0m     \u001b[39mif\u001b[39;00m y_type \u001b[39mnot\u001b[39;00m \u001b[39min\u001b[39;00m (\u001b[39m\"\u001b[39m\u001b[39mbinary\u001b[39m\u001b[39m\"\u001b[39m, \u001b[39m\"\u001b[39m\u001b[39mmulticlass\u001b[39m\u001b[39m\"\u001b[39m):\n\u001b[1;32m    319\u001b[0m         \u001b[39mraise\u001b[39;00m \u001b[39mValueError\u001b[39;00m(\u001b[39m\"\u001b[39m\u001b[39m%s\u001b[39;00m\u001b[39m is not supported\u001b[39m\u001b[39m\"\u001b[39m \u001b[39m%\u001b[39m y_type)\n",
      "File \u001b[0;32m~/opt/anaconda3/lib/python3.9/site-packages/sklearn/metrics/_classification.py:95\u001b[0m, in \u001b[0;36m_check_targets\u001b[0;34m(y_true, y_pred)\u001b[0m\n\u001b[1;32m     92\u001b[0m     y_type \u001b[39m=\u001b[39m {\u001b[39m\"\u001b[39m\u001b[39mmulticlass\u001b[39m\u001b[39m\"\u001b[39m}\n\u001b[1;32m     94\u001b[0m \u001b[39mif\u001b[39;00m \u001b[39mlen\u001b[39m(y_type) \u001b[39m>\u001b[39m \u001b[39m1\u001b[39m:\n\u001b[0;32m---> 95\u001b[0m     \u001b[39mraise\u001b[39;00m \u001b[39mValueError\u001b[39;00m(\n\u001b[1;32m     96\u001b[0m         \u001b[39m\"\u001b[39m\u001b[39mClassification metrics can\u001b[39m\u001b[39m'\u001b[39m\u001b[39mt handle a mix of \u001b[39m\u001b[39m{0}\u001b[39;00m\u001b[39m and \u001b[39m\u001b[39m{1}\u001b[39;00m\u001b[39m targets\u001b[39m\u001b[39m\"\u001b[39m\u001b[39m.\u001b[39mformat(\n\u001b[1;32m     97\u001b[0m             type_true, type_pred\n\u001b[1;32m     98\u001b[0m         )\n\u001b[1;32m     99\u001b[0m     )\n\u001b[1;32m    101\u001b[0m \u001b[39m# We can't have more than one value on y_type => The set is no more needed\u001b[39;00m\n\u001b[1;32m    102\u001b[0m y_type \u001b[39m=\u001b[39m y_type\u001b[39m.\u001b[39mpop()\n",
      "\u001b[0;31mValueError\u001b[0m: Classification metrics can't handle a mix of multilabel-indicator and continuous-multioutput targets"
     ]
    }
   ],
   "source": [
    "pred = model.predict(X_test)\n",
    "print(pred.shape, y_test.shape)\n",
    "cm_pred = confusion_matrix(y_test, pred)\n",
    "\n",
    "sns.heatmap(cm_pred, cbar=False, annot=True, cmap=\"Greens\", fmt=\"d\")"
   ]
  },
  {
   "cell_type": "code",
   "execution_count": null,
   "metadata": {},
   "outputs": [],
   "source": []
  }
 ],
 "metadata": {
  "kernelspec": {
   "display_name": "base",
   "language": "python",
   "name": "python3"
  },
  "language_info": {
   "codemirror_mode": {
    "name": "ipython",
    "version": 3
   },
   "file_extension": ".py",
   "mimetype": "text/x-python",
   "name": "python",
   "nbconvert_exporter": "python",
   "pygments_lexer": "ipython3",
   "version": "3.9.7"
  },
  "orig_nbformat": 4
 },
 "nbformat": 4,
 "nbformat_minor": 2
}
